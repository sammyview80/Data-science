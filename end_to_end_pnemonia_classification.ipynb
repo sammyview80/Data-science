{
  "cells": [
    {
      "cell_type": "code",
      "execution_count": null,
      "metadata": {
        "id": "0Ft1gJKjPpAs"
      },
      "outputs": [],
      "source": [
        "from google.colab import drive\n",
        "drive.mount('/content/drive')"
      ]
    },
    {
      "cell_type": "code",
      "execution_count": null,
      "metadata": {
        "colab": {
          "base_uri": "https://localhost:8080/"
        },
        "id": "s1YvODdzNdb_",
        "outputId": "ce7b536b-7f60-428b-cff0-f1ab49355497"
      },
      "outputs": [
        {
          "output_type": "stream",
          "name": "stdout",
          "text": [
            "TF version: 2.12.0\n",
            "TF_hub version: 0.13.0\n",
            "GPU available (YESS)\n"
          ]
        }
      ],
      "source": [
        "#  Import necessary tools.\n",
        "import tensorflow as tf\n",
        "import tensorflow_hub as hub\n",
        "print(\"TF version:\", tf.__version__)\n",
        "print(\"TF_hub version:\", hub.__version__)\n",
        "\n",
        "\n",
        "# Check for GUP availability\n",
        "print('GPU', 'available (YESS)' if tf.config.list_physical_devices('GPU') else 'not available !')\n"
      ]
    },
    {
      "cell_type": "code",
      "execution_count": null,
      "metadata": {
        "id": "bKqFsiTSG9x7"
      },
      "outputs": [],
      "source": []
    },
    {
      "cell_type": "code",
      "execution_count": null,
      "metadata": {
        "id": "RwiIYpLbNgAY"
      },
      "outputs": [],
      "source": [
        "# Basic import\n",
        "import pandas as pd\n",
        "import numpy as np"
      ]
    },
    {
      "cell_type": "code",
      "execution_count": null,
      "metadata": {
        "colab": {
          "base_uri": "https://localhost:8080/",
          "height": 300
        },
        "id": "xWT5j36ENwEQ",
        "outputId": "10508f43-eae8-422a-c3a4-c1c9cb004436"
      },
      "outputs": [
        {
          "output_type": "execute_result",
          "data": {
            "text/plain": [
              "            target\n",
              "count  5216.000000\n",
              "mean      0.742906\n",
              "std       0.437073\n",
              "min       0.000000\n",
              "25%       0.000000\n",
              "50%       1.000000\n",
              "75%       1.000000\n",
              "max       1.000000"
            ],
            "text/html": [
              "\n",
              "\n",
              "  <div id=\"df-004ebbde-a150-434b-9e93-4d458949e5c0\">\n",
              "    <div class=\"colab-df-container\">\n",
              "      <div>\n",
              "<style scoped>\n",
              "    .dataframe tbody tr th:only-of-type {\n",
              "        vertical-align: middle;\n",
              "    }\n",
              "\n",
              "    .dataframe tbody tr th {\n",
              "        vertical-align: top;\n",
              "    }\n",
              "\n",
              "    .dataframe thead th {\n",
              "        text-align: right;\n",
              "    }\n",
              "</style>\n",
              "<table border=\"1\" class=\"dataframe\">\n",
              "  <thead>\n",
              "    <tr style=\"text-align: right;\">\n",
              "      <th></th>\n",
              "      <th>target</th>\n",
              "    </tr>\n",
              "  </thead>\n",
              "  <tbody>\n",
              "    <tr>\n",
              "      <th>count</th>\n",
              "      <td>5216.000000</td>\n",
              "    </tr>\n",
              "    <tr>\n",
              "      <th>mean</th>\n",
              "      <td>0.742906</td>\n",
              "    </tr>\n",
              "    <tr>\n",
              "      <th>std</th>\n",
              "      <td>0.437073</td>\n",
              "    </tr>\n",
              "    <tr>\n",
              "      <th>min</th>\n",
              "      <td>0.000000</td>\n",
              "    </tr>\n",
              "    <tr>\n",
              "      <th>25%</th>\n",
              "      <td>0.000000</td>\n",
              "    </tr>\n",
              "    <tr>\n",
              "      <th>50%</th>\n",
              "      <td>1.000000</td>\n",
              "    </tr>\n",
              "    <tr>\n",
              "      <th>75%</th>\n",
              "      <td>1.000000</td>\n",
              "    </tr>\n",
              "    <tr>\n",
              "      <th>max</th>\n",
              "      <td>1.000000</td>\n",
              "    </tr>\n",
              "  </tbody>\n",
              "</table>\n",
              "</div>\n",
              "      <button class=\"colab-df-convert\" onclick=\"convertToInteractive('df-004ebbde-a150-434b-9e93-4d458949e5c0')\"\n",
              "              title=\"Convert this dataframe to an interactive table.\"\n",
              "              style=\"display:none;\">\n",
              "\n",
              "  <svg xmlns=\"http://www.w3.org/2000/svg\" height=\"24px\"viewBox=\"0 0 24 24\"\n",
              "       width=\"24px\">\n",
              "    <path d=\"M0 0h24v24H0V0z\" fill=\"none\"/>\n",
              "    <path d=\"M18.56 5.44l.94 2.06.94-2.06 2.06-.94-2.06-.94-.94-2.06-.94 2.06-2.06.94zm-11 1L8.5 8.5l.94-2.06 2.06-.94-2.06-.94L8.5 2.5l-.94 2.06-2.06.94zm10 10l.94 2.06.94-2.06 2.06-.94-2.06-.94-.94-2.06-.94 2.06-2.06.94z\"/><path d=\"M17.41 7.96l-1.37-1.37c-.4-.4-.92-.59-1.43-.59-.52 0-1.04.2-1.43.59L10.3 9.45l-7.72 7.72c-.78.78-.78 2.05 0 2.83L4 21.41c.39.39.9.59 1.41.59.51 0 1.02-.2 1.41-.59l7.78-7.78 2.81-2.81c.8-.78.8-2.07 0-2.86zM5.41 20L4 18.59l7.72-7.72 1.47 1.35L5.41 20z\"/>\n",
              "  </svg>\n",
              "      </button>\n",
              "\n",
              "\n",
              "\n",
              "    <div id=\"df-63f09049-9479-4a3a-ac0d-42b82734390f\">\n",
              "      <button class=\"colab-df-quickchart\" onclick=\"quickchart('df-63f09049-9479-4a3a-ac0d-42b82734390f')\"\n",
              "              title=\"Suggest charts.\"\n",
              "              style=\"display:none;\">\n",
              "\n",
              "<svg xmlns=\"http://www.w3.org/2000/svg\" height=\"24px\"viewBox=\"0 0 24 24\"\n",
              "     width=\"24px\">\n",
              "    <g>\n",
              "        <path d=\"M19 3H5c-1.1 0-2 .9-2 2v14c0 1.1.9 2 2 2h14c1.1 0 2-.9 2-2V5c0-1.1-.9-2-2-2zM9 17H7v-7h2v7zm4 0h-2V7h2v10zm4 0h-2v-4h2v4z\"/>\n",
              "    </g>\n",
              "</svg>\n",
              "      </button>\n",
              "    </div>\n",
              "\n",
              "<style>\n",
              "  .colab-df-quickchart {\n",
              "    background-color: #E8F0FE;\n",
              "    border: none;\n",
              "    border-radius: 50%;\n",
              "    cursor: pointer;\n",
              "    display: none;\n",
              "    fill: #1967D2;\n",
              "    height: 32px;\n",
              "    padding: 0 0 0 0;\n",
              "    width: 32px;\n",
              "  }\n",
              "\n",
              "  .colab-df-quickchart:hover {\n",
              "    background-color: #E2EBFA;\n",
              "    box-shadow: 0px 1px 2px rgba(60, 64, 67, 0.3), 0px 1px 3px 1px rgba(60, 64, 67, 0.15);\n",
              "    fill: #174EA6;\n",
              "  }\n",
              "\n",
              "  [theme=dark] .colab-df-quickchart {\n",
              "    background-color: #3B4455;\n",
              "    fill: #D2E3FC;\n",
              "  }\n",
              "\n",
              "  [theme=dark] .colab-df-quickchart:hover {\n",
              "    background-color: #434B5C;\n",
              "    box-shadow: 0px 1px 3px 1px rgba(0, 0, 0, 0.15);\n",
              "    filter: drop-shadow(0px 1px 2px rgba(0, 0, 0, 0.3));\n",
              "    fill: #FFFFFF;\n",
              "  }\n",
              "</style>\n",
              "\n",
              "    <script>\n",
              "      async function quickchart(key) {\n",
              "        const containerElement = document.querySelector('#' + key);\n",
              "        const charts = await google.colab.kernel.invokeFunction(\n",
              "            'suggestCharts', [key], {});\n",
              "      }\n",
              "    </script>\n",
              "\n",
              "      <script>\n",
              "\n",
              "function displayQuickchartButton(domScope) {\n",
              "  let quickchartButtonEl =\n",
              "    domScope.querySelector('#df-63f09049-9479-4a3a-ac0d-42b82734390f button.colab-df-quickchart');\n",
              "  quickchartButtonEl.style.display =\n",
              "    google.colab.kernel.accessAllowed ? 'block' : 'none';\n",
              "}\n",
              "\n",
              "        displayQuickchartButton(document);\n",
              "      </script>\n",
              "      <style>\n",
              "    .colab-df-container {\n",
              "      display:flex;\n",
              "      flex-wrap:wrap;\n",
              "      gap: 12px;\n",
              "    }\n",
              "\n",
              "    .colab-df-convert {\n",
              "      background-color: #E8F0FE;\n",
              "      border: none;\n",
              "      border-radius: 50%;\n",
              "      cursor: pointer;\n",
              "      display: none;\n",
              "      fill: #1967D2;\n",
              "      height: 32px;\n",
              "      padding: 0 0 0 0;\n",
              "      width: 32px;\n",
              "    }\n",
              "\n",
              "    .colab-df-convert:hover {\n",
              "      background-color: #E2EBFA;\n",
              "      box-shadow: 0px 1px 2px rgba(60, 64, 67, 0.3), 0px 1px 3px 1px rgba(60, 64, 67, 0.15);\n",
              "      fill: #174EA6;\n",
              "    }\n",
              "\n",
              "    [theme=dark] .colab-df-convert {\n",
              "      background-color: #3B4455;\n",
              "      fill: #D2E3FC;\n",
              "    }\n",
              "\n",
              "    [theme=dark] .colab-df-convert:hover {\n",
              "      background-color: #434B5C;\n",
              "      box-shadow: 0px 1px 3px 1px rgba(0, 0, 0, 0.15);\n",
              "      filter: drop-shadow(0px 1px 2px rgba(0, 0, 0, 0.3));\n",
              "      fill: #FFFFFF;\n",
              "    }\n",
              "  </style>\n",
              "\n",
              "      <script>\n",
              "        const buttonEl =\n",
              "          document.querySelector('#df-004ebbde-a150-434b-9e93-4d458949e5c0 button.colab-df-convert');\n",
              "        buttonEl.style.display =\n",
              "          google.colab.kernel.accessAllowed ? 'block' : 'none';\n",
              "\n",
              "        async function convertToInteractive(key) {\n",
              "          const element = document.querySelector('#df-004ebbde-a150-434b-9e93-4d458949e5c0');\n",
              "          const dataTable =\n",
              "            await google.colab.kernel.invokeFunction('convertToInteractive',\n",
              "                                                     [key], {});\n",
              "          if (!dataTable) return;\n",
              "\n",
              "          const docLinkHtml = 'Like what you see? Visit the ' +\n",
              "            '<a target=\"_blank\" href=https://colab.research.google.com/notebooks/data_table.ipynb>data table notebook</a>'\n",
              "            + ' to learn more about interactive tables.';\n",
              "          element.innerHTML = '';\n",
              "          dataTable['output_type'] = 'display_data';\n",
              "          await google.colab.output.renderOutput(dataTable, element);\n",
              "          const docLink = document.createElement('div');\n",
              "          docLink.innerHTML = docLinkHtml;\n",
              "          element.appendChild(docLink);\n",
              "        }\n",
              "      </script>\n",
              "    </div>\n",
              "  </div>\n"
            ]
          },
          "metadata": {},
          "execution_count": 4
        }
      ],
      "source": [
        "labels_csv = pd.read_csv('/content/drive/My Drive/')\n",
        "labels_csv.describe()"
      ]
    },
    {
      "cell_type": "code",
      "execution_count": null,
      "metadata": {
        "colab": {
          "base_uri": "https://localhost:8080/"
        },
        "id": "rsJLHBYLN-zp",
        "outputId": "973da67c-e177-4b14-a1c1-dc5088c94b62"
      },
      "outputs": [
        {
          "output_type": "execute_result",
          "data": {
            "text/plain": [
              "(5216, 2)"
            ]
          },
          "metadata": {},
          "execution_count": 5
        }
      ],
      "source": [
        "labels_csv.shape"
      ]
    },
    {
      "cell_type": "code",
      "execution_count": null,
      "metadata": {
        "colab": {
          "base_uri": "https://localhost:8080/"
        },
        "id": "QskYaPQUObra",
        "outputId": "c373cff4-bdf8-4e41-84f7-038fbc195703"
      },
      "outputs": [
        {
          "output_type": "execute_result",
          "data": {
            "text/plain": [
              "1    3875\n",
              "0    1341\n",
              "Name: target, dtype: int64"
            ]
          },
          "metadata": {},
          "execution_count": 6
        }
      ],
      "source": [
        "labels_csv['target'].value_counts()"
      ]
    },
    {
      "cell_type": "code",
      "execution_count": null,
      "metadata": {
        "colab": {
          "base_uri": "https://localhost:8080/",
          "height": 884
        },
        "id": "0jTLtPAbOk-R",
        "outputId": "c6d05af5-f42f-4067-8baf-f5c06bc6734f"
      },
      "outputs": [
        {
          "output_type": "execute_result",
          "data": {
            "text/plain": [
              "Text(0, 0.5, 'No of peoples')"
            ]
          },
          "metadata": {},
          "execution_count": 7
        },
        {
          "output_type": "display_data",
          "data": {
            "text/plain": [
              "<Figure size 1000x1000 with 1 Axes>"
            ],
            "image/png": "[encoded data removed]"
          },
          "metadata": {}
        }
      ],
      "source": [
        "%matplotlib inline\n",
        "import matplotlib.pyplot as plt\n",
        "labels_csv['target'].value_counts().plot.bar(figsize=(10,10), color=['salmon', 'lightblue'])\n",
        "plt.title('Pnemonia X-ray classification')\n",
        "plt.xlabel('1 YES || 0 NO')\n",
        "plt.ylabel('No of peoples')"
      ]
    },
    {
      "cell_type": "code",
      "execution_count": null,
      "metadata": {
        "id": "ArZxohdeaYDA"
      },
      "outputs": [],
      "source": [
        "#target = list(map(lambda x: True if x is 1 else False, labels_csv.target))"
      ]
    },
    {
      "cell_type": "code",
      "execution_count": null,
      "metadata": {
        "colab": {
          "base_uri": "https://localhost:8080/"
        },
        "id": "4AKS0ap7d6rp",
        "outputId": "b6dc73bd-594a-446d-b5f3-ca5962638902"
      },
      "outputs": [
        {
          "output_type": "execute_result",
          "data": {
            "text/plain": [
              "array([1, 1, 1, ..., 0, 1, 0])"
            ]
          },
          "metadata": {},
          "execution_count": 9
        }
      ],
      "source": [
        "targets = labels_csv['target'].to_numpy()\n",
        "targets"
      ]
    },
    {
      "cell_type": "code",
      "execution_count": null,
      "metadata": {
        "id": "fRSrG9u2cNep"
      },
      "outputs": [],
      "source": [
        "# Convert the labels_csv's target column to numpy\n",
        "targets = labels_csv['target'].to_numpy()\n",
        "# Create a unique set of breeds eg: (0,1)\n",
        "uniqueTarget = np.unique(targets)\n",
        "# Changing into boolean values\n",
        "# boolean_target = [target == [0 , 1] for target in targets]\n",
        "boolean_target = [target == uniqueTarget for target in targets]"
      ]
    },
    {
      "cell_type": "code",
      "execution_count": null,
      "metadata": {
        "colab": {
          "base_uri": "https://localhost:8080/"
        },
        "id": "qGuirarHdF0T",
        "outputId": "4e293eb0-4307-4bb6-de49-73ac64fa7a7d"
      },
      "outputs": [
        {
          "output_type": "execute_result",
          "data": {
            "text/plain": [
              "5216"
            ]
          },
          "metadata": {},
          "execution_count": 11
        }
      ],
      "source": [
        "len(boolean_target)"
      ]
    },
    {
      "cell_type": "markdown",
      "metadata": {
        "id": "fyFZtO96fCq0"
      },
      "source": [
        "## Getting the filepath form the labels_csv\n"
      ]
    },
    {
      "cell_type": "code",
      "execution_count": null,
      "metadata": {
        "colab": {
          "base_uri": "https://localhost:8080/"
        },
        "id": "Mcqmu8QbfKXB",
        "outputId": "ede7f401-c188-4a4e-e8fd-f5aedcbed6a9"
      },
      "outputs": [
        {
          "output_type": "execute_result",
          "data": {
            "text/plain": [
              "['/content/drive/My Drive/Pnemonia classification/traindata/person337_bacteria_1561.jpeg',\n",
              " '/content/drive/My Drive/Pnemonia classification/traindata/person410_bacteria_1825.jpeg',\n",
              " '/content/drive/My Drive/Pnemonia classification/traindata/person1719_bacteria_4541.jpeg',\n",
              " '/content/drive/My Drive/Pnemonia classification/traindata/person866_bacteria_2788.jpeg',\n",
              " '/content/drive/My Drive/Pnemonia classification/traindata/person1589_virus_2763.jpeg',\n",
              " '/content/drive/My Drive/Pnemonia classification/traindata/NORMAL2-IM-0725-0001.jpeg',\n",
              " '/content/drive/My Drive/Pnemonia classification/traindata/person842_bacteria_2762.jpeg',\n",
              " '/content/drive/My Drive/Pnemonia classification/traindata/NORMAL2-IM-0846-0001.jpeg',\n",
              " '/content/drive/My Drive/Pnemonia classification/traindata/person1073_bacteria_3008.jpeg',\n",
              " '/content/drive/My Drive/Pnemonia classification/traindata/person864_virus_1509.jpeg']"
            ]
          },
          "metadata": {},
          "execution_count": 12
        }
      ],
      "source": [
        "filename = ['/content/drive/My Drive/Pnemonia classification/traindata/' + name for name in labels_csv['id']]\n",
        "filename[:10]"
      ]
    },
    {
      "cell_type": "code",
      "execution_count": null,
      "metadata": {
        "colab": {
          "base_uri": "https://localhost:8080/",
          "height": 729
        },
        "id": "SHeahEq7fZP1",
        "outputId": "c96ee63d-aa20-4196-ae87-f666c3c09195"
      },
      "outputs": [
        {
          "output_type": "execute_result",
          "data": {
            "image/jpeg": "[encoded data removed]",
            "text/plain": [
              "<IPython.core.display.Image object>"
            ]
          },
          "metadata": {},
          "execution_count": 13
        }
      ],
      "source": [
        "# Let's view an image\n",
        "from IPython.display import Image\n",
        "Image(filename[1111])"
      ]
    },
    {
      "cell_type": "code",
      "execution_count": null,
      "metadata": {
        "id": "Je99b04EMbde"
      },
      "outputs": [],
      "source": [
        "import os\n",
        "# 'Yes' if len(os.listdir('/content/drive/My Drive/Pnemonia classification/traindata')) == len(filename) else 'No'"
      ]
    },
    {
      "cell_type": "code",
      "execution_count": null,
      "metadata": {
        "colab": {
          "base_uri": "https://localhost:8080/"
        },
        "id": "BnL73W_OM0tA",
        "outputId": "c7aa3b8f-b657-4200-92b8-4a44f3a28091"
      },
      "outputs": [
        {
          "output_type": "execute_result",
          "data": {
            "text/plain": [
              "5232"
            ]
          },
          "metadata": {},
          "execution_count": 15
        }
      ],
      "source": [
        "len(os.listdir('/content/drive/My Drive/Pnemonia classification/traindata'))"
      ]
    },
    {
      "cell_type": "markdown",
      "metadata": {
        "id": "g62TDefjfiVt"
      },
      "source": [
        "## Creating our own validation set"
      ]
    },
    {
      "cell_type": "code",
      "execution_count": null,
      "metadata": {
        "id": "nXguyT3vgApo"
      },
      "outputs": [],
      "source": [
        "# Setup X and y variables\n",
        "X = filename # Here we define the features as the path\n",
        "y = boolean_target # Boolean target as the labels"
      ]
    },
    {
      "cell_type": "code",
      "execution_count": null,
      "metadata": {
        "colab": {
          "base_uri": "https://localhost:8080/"
        },
        "id": "fekyuYqYglEd",
        "outputId": "82e0f312-31f9-4e61-f037-b3ecc4762878"
      },
      "outputs": [
        {
          "output_type": "execute_result",
          "data": {
            "text/plain": [
              "(800, 800, 200, 200)"
            ]
          },
          "metadata": {},
          "execution_count": 17
        }
      ],
      "source": [
        "# Set number of target to use for experimenting\n",
        "NUM_IMAGES = 1000 #@param {type:'slider', min:1000, max:5232, step:2}\n",
        "\n",
        "# Let's split our data into train and validation set\n",
        "from sklearn.model_selection import train_test_split\n",
        "\n",
        "# Split into train and val data of total size NUM_IMAGES\n",
        "X_train, X_val, y_train, y_val = train_test_split(X[:NUM_IMAGES],\n",
        "                                                  y[:NUM_IMAGES],\n",
        "                                                  test_size=0.2,\n",
        "                                                  random_state=42)\n",
        "\n",
        "len(X_train), len(y_train), len(X_val), len(y_val)"
      ]
    },
    {
      "cell_type": "code",
      "execution_count": null,
      "metadata": {
        "colab": {
          "base_uri": "https://localhost:8080/"
        },
        "id": "VZXxc_VJhidP",
        "outputId": "3238e27f-d918-4cb8-df02-df365f198eac"
      },
      "outputs": [
        {
          "output_type": "execute_result",
          "data": {
            "text/plain": [
              "(['/content/drive/My Drive/Pnemonia classification/traindata/person348_virus_719.jpeg',\n",
              "  '/content/drive/My Drive/Pnemonia classification/traindata/person1405_bacteria_3571.jpeg',\n",
              "  '/content/drive/My Drive/Pnemonia classification/traindata/person296_virus_613.jpeg',\n",
              "  '/content/drive/My Drive/Pnemonia classification/traindata/person1337_virus_2307.jpeg',\n",
              "  '/content/drive/My Drive/Pnemonia classification/traindata/person1472_bacteria_3833.jpeg'],\n",
              " [array([False,  True]),\n",
              "  array([False,  True]),\n",
              "  array([False,  True]),\n",
              "  array([False,  True]),\n",
              "  array([False,  True])])"
            ]
          },
          "metadata": {},
          "execution_count": 18
        }
      ],
      "source": [
        "X_train[:5], y_train[:5]"
      ]
    },
    {
      "cell_type": "code",
      "execution_count": null,
      "metadata": {
        "colab": {
          "base_uri": "https://localhost:8080/"
        },
        "id": "P3gliOneum4C",
        "outputId": "46f2aee1-b676-42bc-8e21-50aa3b06ea8a"
      },
      "outputs": [
        {
          "output_type": "stream",
          "name": "stdout",
          "text": [
            "['/content/drive/My Drive/Pnemonia classification/traindata/person348_virus_719.jpeg', '/content/drive/My Drive/Pnemonia classification/traindata/person1405_bacteria_3571.jpeg', '/content/drive/My Drive/Pnemonia classification/traindata/person296_virus_613.jpeg', '/content/drive/My Drive/Pnemonia classification/traindata/person1337_virus_2307.jpeg', '/content/drive/My Drive/Pnemonia classification/traindata/person1472_bacteria_3833.jpeg', '/content/drive/My Drive/Pnemonia classification/traindata/NORMAL2-IM-0414-0001.jpeg', '/content/drive/My Drive/Pnemonia classification/traindata/person1005_virus_1688.jpeg', '/content/drive/My Drive/Pnemonia classification/traindata/person1514_bacteria_3964.jpeg', '/content/drive/My Drive/Pnemonia classification/traindata/person1372_bacteria_3502.jpeg', '/content/drive/My Drive/Pnemonia classification/traindata/person1657_bacteria_4400.jpeg', '/content/drive/My Drive/Pnemonia classification/traindata/person266_bacteria_1237.jpeg', '/content/drive/My Drive/Pnemonia classification/traindata/person916_bacteria_2841.jpeg', '/content/drive/My Drive/Pnemonia classification/traindata/person274_bacteria_1289.jpeg', '/content/drive/My Drive/Pnemonia classification/traindata/person1481_bacteria_3867.jpeg', '/content/drive/My Drive/Pnemonia classification/traindata/person1308_virus_2252.jpeg', '/content/drive/My Drive/Pnemonia classification/traindata/IM-0654-0001.jpeg', '/content/drive/My Drive/Pnemonia classification/traindata/person797_virus_1429.jpeg', '/content/drive/My Drive/Pnemonia classification/traindata/person1110_virus_1835.jpeg', '/content/drive/My Drive/Pnemonia classification/traindata/IM-0624-0001-0002.jpeg', '/content/drive/My Drive/Pnemonia classification/traindata/NORMAL2-IM-0978-0001.jpeg', '/content/drive/My Drive/Pnemonia classification/traindata/NORMAL2-IM-1237-0001.jpeg', '/content/drive/My Drive/Pnemonia classification/traindata/person1710_bacteria_4525.jpeg', '/content/drive/My Drive/Pnemonia classification/traindata/NORMAL2-IM-0707-0001.jpeg', '/content/drive/My Drive/Pnemonia classification/traindata/person671_bacteria_2564.jpeg', '/content/drive/My Drive/Pnemonia classification/traindata/person1927_bacteria_4836.jpeg', '/content/drive/My Drive/Pnemonia classification/traindata/person1719_bacteria_4541.jpeg', '/content/drive/My Drive/Pnemonia classification/traindata/NORMAL2-IM-1020-0001.jpeg', '/content/drive/My Drive/Pnemonia classification/traindata/IM-0420-0001.jpeg', '/content/drive/My Drive/Pnemonia classification/traindata/person291_bacteria_1374.jpeg', '/content/drive/My Drive/Pnemonia classification/traindata/person1183_virus_2018.jpeg', '/content/drive/My Drive/Pnemonia classification/traindata/person362_virus_741.jpeg', '/content/drive/My Drive/Pnemonia classification/traindata/NORMAL2-IM-0868-0001.jpeg', '/content/drive/My Drive/Pnemonia classification/traindata/NORMAL2-IM-1038-0001.jpeg', '/content/drive/My Drive/Pnemonia classification/traindata/person341_bacteria_1577.jpeg', '/content/drive/My Drive/Pnemonia classification/traindata/person747_bacteria_2650.jpeg', '/content/drive/My Drive/Pnemonia classification/traindata/person336_bacteria_1549.jpeg', '/content/drive/My Drive/Pnemonia classification/traindata/person919_bacteria_2844.jpeg', '/content/drive/My Drive/Pnemonia classification/traindata/person25_bacteria_120.jpeg', '/content/drive/My Drive/Pnemonia classification/traindata/NORMAL2-IM-1205-0001.jpeg', '/content/drive/My Drive/Pnemonia classification/traindata/NORMAL2-IM-1379-0001.jpeg', '/content/drive/My Drive/Pnemonia classification/traindata/person866_bacteria_2788.jpeg', '/content/drive/My Drive/Pnemonia classification/traindata/person1057_virus_1756.jpeg', '/content/drive/My Drive/Pnemonia classification/traindata/IM-0255-0001.jpeg', '/content/drive/My Drive/Pnemonia classification/traindata/NORMAL2-IM-1148-0001.jpeg', '/content/drive/My Drive/Pnemonia classification/traindata/NORMAL2-IM-0698-0001.jpeg', '/content/drive/My Drive/Pnemonia classification/traindata/NORMAL2-IM-1044-0001.jpeg', '/content/drive/My Drive/Pnemonia classification/traindata/person1004_bacteria_2935.jpeg', '/content/drive/My Drive/Pnemonia classification/traindata/NORMAL2-IM-0653-0001.jpeg', '/content/drive/My Drive/Pnemonia classification/traindata/person441_bacteria_1912.jpeg', '/content/drive/My Drive/Pnemonia classification/traindata/person266_bacteria_1248.jpeg', '/content/drive/My Drive/Pnemonia classification/traindata/person357_virus_736.jpeg', '/content/drive/My Drive/Pnemonia classification/traindata/person1376_virus_2367.jpeg', '/content/drive/My Drive/Pnemonia classification/traindata/person975_virus_1650.jpeg', '/content/drive/My Drive/Pnemonia classification/traindata/person62_bacteria_301.jpeg', '/content/drive/My Drive/Pnemonia classification/traindata/NORMAL2-IM-1316-0001.jpeg', '/content/drive/My Drive/Pnemonia classification/traindata/person704_virus_1301.jpeg', '/content/drive/My Drive/Pnemonia classification/traindata/IM-0660-0001-0001.jpeg', '/content/drive/My Drive/Pnemonia classification/traindata/IM-0391-0001.jpeg', '/content/drive/My Drive/Pnemonia classification/traindata/person1302_bacteria_3266.jpeg', '/content/drive/My Drive/Pnemonia classification/traindata/NORMAL2-IM-0725-0001.jpeg', '/content/drive/My Drive/Pnemonia classification/traindata/person41_bacteria_211.jpeg', '/content/drive/My Drive/Pnemonia classification/traindata/IM-0700-0001.jpeg', '/content/drive/My Drive/Pnemonia classification/traindata/person1545_bacteria_4041.jpeg', '/content/drive/My Drive/Pnemonia classification/traindata/person440_virus_893.jpeg', '/content/drive/My Drive/Pnemonia classification/traindata/person551_virus_1091.jpeg', '/content/drive/My Drive/Pnemonia classification/traindata/IM-0509-0001-0002.jpeg', '/content/drive/My Drive/Pnemonia classification/traindata/person484_virus_986.jpeg', '/content/drive/My Drive/Pnemonia classification/traindata/NORMAL2-IM-1020-0001-0001.jpeg', '/content/drive/My Drive/Pnemonia classification/traindata/person1065_virus_1768.jpeg', '/content/drive/My Drive/Pnemonia classification/traindata/person530_bacteria_2233.jpeg', '/content/drive/My Drive/Pnemonia classification/traindata/person1618_bacteria_4258.jpeg', '/content/drive/My Drive/Pnemonia classification/traindata/person1413_bacteria_3613.jpeg', '/content/drive/My Drive/Pnemonia classification/traindata/person803_virus_1436.jpeg', '/content/drive/My Drive/Pnemonia classification/traindata/person649_virus_1231.jpeg', '/content/drive/My Drive/Pnemonia classification/traindata/person1803_bacteria_4651.jpeg', '/content/drive/My Drive/Pnemonia classification/traindata/person864_virus_1509.jpeg', '/content/drive/My Drive/Pnemonia classification/traindata/NORMAL2-IM-0836-0001.jpeg', '/content/drive/My Drive/Pnemonia classification/traindata/IM-0497-0001-0002.jpeg', '/content/drive/My Drive/Pnemonia classification/traindata/person332_bacteria_1537.jpeg', '/content/drive/My Drive/Pnemonia classification/traindata/person517_virus_1035.jpeg', '/content/drive/My Drive/Pnemonia classification/traindata/person374_bacteria_1711.jpeg', '/content/drive/My Drive/Pnemonia classification/traindata/IM-0166-0001.jpeg', '/content/drive/My Drive/Pnemonia classification/traindata/person1583_bacteria_4144.jpeg', '/content/drive/My Drive/Pnemonia classification/traindata/NORMAL2-IM-1262-0001.jpeg', '/content/drive/My Drive/Pnemonia classification/traindata/NORMAL2-IM-0949-0001.jpeg', '/content/drive/My Drive/Pnemonia classification/traindata/person292_virus_599.jpeg', '/content/drive/My Drive/Pnemonia classification/traindata/person1718_bacteria_4538.jpeg', '/content/drive/My Drive/Pnemonia classification/traindata/NORMAL2-IM-0493-0001.jpeg', '/content/drive/My Drive/Pnemonia classification/traindata/person258_bacteria_1216.jpeg', '/content/drive/My Drive/Pnemonia classification/traindata/person38_bacteria_194.jpeg', '/content/drive/My Drive/Pnemonia classification/traindata/person492_bacteria_2084.jpeg', '/content/drive/My Drive/Pnemonia classification/traindata/person337_bacteria_1562.jpeg', '/content/drive/My Drive/Pnemonia classification/traindata/person1406_bacteria_3575.jpeg', '/content/drive/My Drive/Pnemonia classification/traindata/person578_bacteria_2379.jpeg', '/content/drive/My Drive/Pnemonia classification/traindata/person48_bacteria_230.jpeg', '/content/drive/My Drive/Pnemonia classification/traindata/person623_bacteria_2495.jpeg', '/content/drive/My Drive/Pnemonia classification/traindata/person689_bacteria_2585.jpeg', '/content/drive/My Drive/Pnemonia classification/traindata/person295_bacteria_1390.jpeg', '/content/drive/My Drive/Pnemonia classification/traindata/NORMAL2-IM-0846-0001.jpeg', '/content/drive/My Drive/Pnemonia classification/traindata/IM-0455-0001.jpeg', '/content/drive/My Drive/Pnemonia classification/traindata/person780_bacteria_2684.jpeg', '/content/drive/My Drive/Pnemonia classification/traindata/person940_bacteria_2865.jpeg', '/content/drive/My Drive/Pnemonia classification/traindata/person1460_bacteria_3801.jpeg', '/content/drive/My Drive/Pnemonia classification/traindata/NORMAL2-IM-0798-0001.jpeg', '/content/drive/My Drive/Pnemonia classification/traindata/person1488_virus_2589.jpeg', '/content/drive/My Drive/Pnemonia classification/traindata/person7_bacteria_24.jpeg', '/content/drive/My Drive/Pnemonia classification/traindata/person1582_bacteria_4137.jpeg', '/content/drive/My Drive/Pnemonia classification/traindata/person1422_virus_2434.jpeg', '/content/drive/My Drive/Pnemonia classification/traindata/NORMAL2-IM-0689-0001.jpeg', '/content/drive/My Drive/Pnemonia classification/traindata/person1455_virus_2488.jpeg', '/content/drive/My Drive/Pnemonia classification/traindata/person1124_virus_1851.jpeg', '/content/drive/My Drive/Pnemonia classification/traindata/person516_bacteria_2191.jpeg', '/content/drive/My Drive/Pnemonia classification/traindata/person517_virus_1034.jpeg', '/content/drive/My Drive/Pnemonia classification/traindata/person1146_bacteria_3091.jpeg', '/content/drive/My Drive/Pnemonia classification/traindata/person1597_bacteria_4187.jpeg', '/content/drive/My Drive/Pnemonia classification/traindata/person545_virus_1081.jpeg', '/content/drive/My Drive/Pnemonia classification/traindata/person1590_bacteria_4175.jpeg', '/content/drive/My Drive/Pnemonia classification/traindata/person1642_bacteria_4352.jpeg', '/content/drive/My Drive/Pnemonia classification/traindata/NORMAL2-IM-0555-0001-0002.jpeg', '/content/drive/My Drive/Pnemonia classification/traindata/person1644_bacteria_4362.jpeg', '/content/drive/My Drive/Pnemonia classification/traindata/person925_bacteria_2850.jpeg', '/content/drive/My Drive/Pnemonia classification/traindata/person1130_bacteria_3072.jpeg', '/content/drive/My Drive/Pnemonia classification/traindata/IM-0156-0001.jpeg', '/content/drive/My Drive/Pnemonia classification/traindata/NORMAL2-IM-0803-0001.jpeg', '/content/drive/My Drive/Pnemonia classification/traindata/NORMAL2-IM-0855-0001.jpeg', '/content/drive/My Drive/Pnemonia classification/traindata/IM-0490-0001.jpeg', '/content/drive/My Drive/Pnemonia classification/traindata/person1581_virus_2741.jpeg', '/content/drive/My Drive/Pnemonia classification/traindata/NORMAL2-IM-1243-0001.jpeg', '/content/drive/My Drive/Pnemonia classification/traindata/person919_virus_1576.jpeg', '/content/drive/My Drive/Pnemonia classification/traindata/person969_virus_1643.jpeg', '/content/drive/My Drive/Pnemonia classification/traindata/NORMAL2-IM-0808-0001.jpeg', '/content/drive/My Drive/Pnemonia classification/traindata/IM-0628-0001.jpeg', '/content/drive/My Drive/Pnemonia classification/traindata/person268_virus_553.jpeg', '/content/drive/My Drive/Pnemonia classification/traindata/person23_bacteria_91.jpeg', '/content/drive/My Drive/Pnemonia classification/traindata/person337_bacteria_1561.jpeg', '/content/drive/My Drive/Pnemonia classification/traindata/person264_bacteria_1231.jpeg', '/content/drive/My Drive/Pnemonia classification/traindata/person1548_bacteria_4048.jpeg', '/content/drive/My Drive/Pnemonia classification/traindata/person292_virus_598.jpeg', '/content/drive/My Drive/Pnemonia classification/traindata/person1670_bacteria_4430.jpeg', '/content/drive/My Drive/Pnemonia classification/traindata/person706_virus_1304.jpeg', '/content/drive/My Drive/Pnemonia classification/traindata/person277_bacteria_1307.jpeg', '/content/drive/My Drive/Pnemonia classification/traindata/person51_bacteria_240.jpeg', '/content/drive/My Drive/Pnemonia classification/traindata/person395_bacteria_1795.jpeg', '/content/drive/My Drive/Pnemonia classification/traindata/person1031_virus_1723.jpeg', '/content/drive/My Drive/Pnemonia classification/traindata/person124_virus_244.jpeg', '/content/drive/My Drive/Pnemonia classification/traindata/person1190_virus_2031.jpeg', '/content/drive/My Drive/Pnemonia classification/traindata/NORMAL2-IM-0854-0001.jpeg', '/content/drive/My Drive/Pnemonia classification/traindata/person382_bacteria_1737.jpeg', '/content/drive/My Drive/Pnemonia classification/traindata/IM-0383-0001.jpeg', '/content/drive/My Drive/Pnemonia classification/traindata/person18_bacteria_57.jpeg', '/content/drive/My Drive/Pnemonia classification/traindata/person1358_bacteria_3465.jpeg', '/content/drive/My Drive/Pnemonia classification/traindata/person277_bacteria_1304.jpeg', '/content/drive/My Drive/Pnemonia classification/traindata/IM-0268-0001.jpeg', '/content/drive/My Drive/Pnemonia classification/traindata/IM-0354-0001.jpeg', '/content/drive/My Drive/Pnemonia classification/traindata/person1843_bacteria_4710.jpeg', '/content/drive/My Drive/Pnemonia classification/traindata/person1228_virus_2079.jpeg', '/content/drive/My Drive/Pnemonia classification/traindata/NORMAL2-IM-0637-0001.jpeg', '/content/drive/My Drive/Pnemonia classification/traindata/person1812_bacteria_4667.jpeg', '/content/drive/My Drive/Pnemonia classification/traindata/person41_bacteria_207.jpeg', '/content/drive/My Drive/Pnemonia classification/traindata/person27_bacteria_137.jpeg', '/content/drive/My Drive/Pnemonia classification/traindata/person255_bacteria_1160.jpeg', '/content/drive/My Drive/Pnemonia classification/traindata/person1084_bacteria_3024.jpeg', '/content/drive/My Drive/Pnemonia classification/traindata/person817_bacteria_2728.jpeg', '/content/drive/My Drive/Pnemonia classification/traindata/person315_bacteria_1464.jpeg', '/content/drive/My Drive/Pnemonia classification/traindata/person663_virus_1247.jpeg', '/content/drive/My Drive/Pnemonia classification/traindata/person74_bacteria_361.jpeg', '/content/drive/My Drive/Pnemonia classification/traindata/person1180_virus_2007.jpeg', '/content/drive/My Drive/Pnemonia classification/traindata/person1343_bacteria_3417.jpeg', '/content/drive/My Drive/Pnemonia classification/traindata/person625_bacteria_2500.jpeg', '/content/drive/My Drive/Pnemonia classification/traindata/person1312_bacteria_3316.jpeg', '/content/drive/My Drive/Pnemonia classification/traindata/NORMAL2-IM-1011-0001.jpeg', '/content/drive/My Drive/Pnemonia classification/traindata/person583_bacteria_2409.jpeg', '/content/drive/My Drive/Pnemonia classification/traindata/person1880_bacteria_4765.jpeg', '/content/drive/My Drive/Pnemonia classification/traindata/person1463_virus_2516.jpeg', '/content/drive/My Drive/Pnemonia classification/traindata/person842_bacteria_2762.jpeg', '/content/drive/My Drive/Pnemonia classification/traindata/person59_bacteria_284.jpeg', '/content/drive/My Drive/Pnemonia classification/traindata/person1321_bacteria_3359.jpeg', '/content/drive/My Drive/Pnemonia classification/traindata/person1243_bacteria_3199.jpeg', '/content/drive/My Drive/Pnemonia classification/traindata/person435_virus_885.jpeg', '/content/drive/My Drive/Pnemonia classification/traindata/NORMAL2-IM-0468-0001.jpeg', '/content/drive/My Drive/Pnemonia classification/traindata/IM-0507-0001.jpeg', '/content/drive/My Drive/Pnemonia classification/traindata/person1638_bacteria_4341.jpeg', '/content/drive/My Drive/Pnemonia classification/traindata/IM-0362-0001.jpeg', '/content/drive/My Drive/Pnemonia classification/traindata/person392_bacteria_1784.jpeg', '/content/drive/My Drive/Pnemonia classification/traindata/IM-0569-0001.jpeg', '/content/drive/My Drive/Pnemonia classification/traindata/person1376_bacteria_3511.jpeg', '/content/drive/My Drive/Pnemonia classification/traindata/person1097_virus_1817.jpeg', '/content/drive/My Drive/Pnemonia classification/traindata/IM-0563-0001.jpeg', '/content/drive/My Drive/Pnemonia classification/traindata/person1180_virus_2014.jpeg', '/content/drive/My Drive/Pnemonia classification/traindata/person342_virus_701.jpeg', '/content/drive/My Drive/Pnemonia classification/traindata/person119_virus_225.jpeg', '/content/drive/My Drive/Pnemonia classification/traindata/person1708_bacteria_4521.jpeg', '/content/drive/My Drive/Pnemonia classification/traindata/person1098_bacteria_3039.jpeg', '/content/drive/My Drive/Pnemonia classification/traindata/person1438_bacteria_3718.jpeg', '/content/drive/My Drive/Pnemonia classification/traindata/NORMAL2-IM-0929-0001.jpeg', '/content/drive/My Drive/Pnemonia classification/traindata/person1133_bacteria_3075.jpeg', '/content/drive/My Drive/Pnemonia classification/traindata/person705_virus_1303.jpeg', '/content/drive/My Drive/Pnemonia classification/traindata/person572_bacteria_2368.jpeg', '/content/drive/My Drive/Pnemonia classification/traindata/person1292_bacteria_3255.jpeg', '/content/drive/My Drive/Pnemonia classification/traindata/person644_bacteria_2536.jpeg', '/content/drive/My Drive/Pnemonia classification/traindata/person306_virus_628.jpeg', '/content/drive/My Drive/Pnemonia classification/traindata/person1726_bacteria_4552.jpeg', '/content/drive/My Drive/Pnemonia classification/traindata/person1349_bacteria_3439.jpeg', '/content/drive/My Drive/Pnemonia classification/traindata/person744_bacteria_2647.jpeg', '/content/drive/My Drive/Pnemonia classification/traindata/person1071_bacteria_3005.jpeg', '/content/drive/My Drive/Pnemonia classification/traindata/NORMAL2-IM-0558-0001.jpeg', '/content/drive/My Drive/Pnemonia classification/traindata/IM-0467-0001-0001.jpeg', '/content/drive/My Drive/Pnemonia classification/traindata/person281_bacteria_1333.jpeg', '/content/drive/My Drive/Pnemonia classification/traindata/NORMAL2-IM-1094-0001.jpeg', '/content/drive/My Drive/Pnemonia classification/traindata/person366_virus_746.jpeg', '/content/drive/My Drive/Pnemonia classification/traindata/NORMAL2-IM-0995-0001.jpeg', '/content/drive/My Drive/Pnemonia classification/traindata/person1078_virus_1788.jpeg', '/content/drive/My Drive/Pnemonia classification/traindata/person1052_bacteria_2986.jpeg', '/content/drive/My Drive/Pnemonia classification/traindata/person1411_bacteria_3593.jpeg', '/content/drive/My Drive/Pnemonia classification/traindata/NORMAL2-IM-1124-0001.jpeg', '/content/drive/My Drive/Pnemonia classification/traindata/IM-0303-0001.jpeg', '/content/drive/My Drive/Pnemonia classification/traindata/person1009_virus_1694.jpeg', '/content/drive/My Drive/Pnemonia classification/traindata/person1518_bacteria_3969.jpeg', '/content/drive/My Drive/Pnemonia classification/traindata/person433_bacteria_1876.jpeg', '/content/drive/My Drive/Pnemonia classification/traindata/IM-0661-0001.jpeg', '/content/drive/My Drive/Pnemonia classification/traindata/person374_bacteria_1710.jpeg', '/content/drive/My Drive/Pnemonia classification/traindata/IM-0697-0001.jpeg', '/content/drive/My Drive/Pnemonia classification/traindata/IM-0513-0001.jpeg', '/content/drive/My Drive/Pnemonia classification/traindata/person699_bacteria_2598.jpeg', '/content/drive/My Drive/Pnemonia classification/traindata/person1401_bacteria_3555.jpeg', '/content/drive/My Drive/Pnemonia classification/traindata/person277_bacteria_1300.jpeg', '/content/drive/My Drive/Pnemonia classification/traindata/person508_bacteria_2144.jpeg', '/content/drive/My Drive/Pnemonia classification/traindata/person1325_bacteria_3366.jpeg', '/content/drive/My Drive/Pnemonia classification/traindata/person1250_bacteria_3207.jpeg', '/content/drive/My Drive/Pnemonia classification/traindata/person1527_virus_2661.jpeg', '/content/drive/My Drive/Pnemonia classification/traindata/NORMAL2-IM-0395-0001-0001.jpeg', '/content/drive/My Drive/Pnemonia classification/traindata/person323_virus_656.jpeg', '/content/drive/My Drive/Pnemonia classification/traindata/person1349_bacteria_3436.jpeg', '/content/drive/My Drive/Pnemonia classification/traindata/person955_virus_1627.jpeg', '/content/drive/My Drive/Pnemonia classification/traindata/person621_virus_1194.jpeg', '/content/drive/My Drive/Pnemonia classification/traindata/person581_bacteria_2390.jpeg', '/content/drive/My Drive/Pnemonia classification/traindata/person1507_bacteria_3946.jpeg', '/content/drive/My Drive/Pnemonia classification/traindata/person124_virus_236.jpeg', '/content/drive/My Drive/Pnemonia classification/traindata/IM-0705-0001.jpeg', '/content/drive/My Drive/Pnemonia classification/traindata/IM-0488-0001.jpeg', '/content/drive/My Drive/Pnemonia classification/traindata/person337_bacteria_1558.jpeg', '/content/drive/My Drive/Pnemonia classification/traindata/person37_bacteria_189.jpeg', '/content/drive/My Drive/Pnemonia classification/traindata/person1544_bacteria_4037.jpeg', '/content/drive/My Drive/Pnemonia classification/traindata/person569_bacteria_2360.jpeg', '/content/drive/My Drive/Pnemonia classification/traindata/person294_bacteria_1383.jpeg', '/content/drive/My Drive/Pnemonia classification/traindata/person813_bacteria_2724.jpeg', '/content/drive/My Drive/Pnemonia classification/traindata/IM-0429-0001-0002.jpeg', '/content/drive/My Drive/Pnemonia classification/traindata/person20_bacteria_67.jpeg', '/content/drive/My Drive/Pnemonia classification/traindata/NORMAL2-IM-0511-0001.jpeg', '/content/drive/My Drive/Pnemonia classification/traindata/NORMAL2-IM-1241-0001.jpeg', '/content/drive/My Drive/Pnemonia classification/traindata/NORMAL2-IM-0669-0001.jpeg', '/content/drive/My Drive/Pnemonia classification/traindata/person512_bacteria_2154.jpeg', '/content/drive/My Drive/Pnemonia classification/traindata/NORMAL2-IM-0815-0001.jpeg', '/content/drive/My Drive/Pnemonia classification/traindata/IM-0732-0001.jpeg', '/content/drive/My Drive/Pnemonia classification/traindata/person793_virus_1424.jpeg', '/content/drive/My Drive/Pnemonia classification/traindata/person413_bacteria_1834.jpeg', '/content/drive/My Drive/Pnemonia classification/traindata/person143_virus_289.jpeg', '/content/drive/My Drive/Pnemonia classification/traindata/person627_virus_1204.jpeg', '/content/drive/My Drive/Pnemonia classification/traindata/person1930_bacteria_4841.jpeg', '/content/drive/My Drive/Pnemonia classification/traindata/person1377_bacteria_3512.jpeg', '/content/drive/My Drive/Pnemonia classification/traindata/person1459_bacteria_3796.jpeg', '/content/drive/My Drive/Pnemonia classification/traindata/person429_bacteria_1870.jpeg', '/content/drive/My Drive/Pnemonia classification/traindata/NORMAL2-IM-0974-0001.jpeg', '/content/drive/My Drive/Pnemonia classification/traindata/person279_virus_576.jpeg', '/content/drive/My Drive/Pnemonia classification/traindata/person462_bacteria_1963.jpeg', '/content/drive/My Drive/Pnemonia classification/traindata/person500_bacteria_2111.jpeg', '/content/drive/My Drive/Pnemonia classification/traindata/NORMAL2-IM-0539-0001.jpeg', '/content/drive/My Drive/Pnemonia classification/traindata/person521_virus_1040.jpeg', '/content/drive/My Drive/Pnemonia classification/traindata/person1165_bacteria_3111.jpeg', '/content/drive/My Drive/Pnemonia classification/traindata/person906_virus_1562.jpeg', '/content/drive/My Drive/Pnemonia classification/traindata/NORMAL2-IM-0899-0001.jpeg', '/content/drive/My Drive/Pnemonia classification/traindata/person443_bacteria_1923.jpeg', '/content/drive/My Drive/Pnemonia classification/traindata/person945_bacteria_2870.jpeg', '/content/drive/My Drive/Pnemonia classification/traindata/NORMAL2-IM-0486-0001.jpeg', '/content/drive/My Drive/Pnemonia classification/traindata/person1_bacteria_1.jpeg', '/content/drive/My Drive/Pnemonia classification/traindata/person55_bacteria_263.jpeg', '/content/drive/My Drive/Pnemonia classification/traindata/person262_virus_544.jpeg', '/content/drive/My Drive/Pnemonia classification/traindata/person62_bacteria_298.jpeg', '/content/drive/My Drive/Pnemonia classification/traindata/person475_bacteria_2023.jpeg', '/content/drive/My Drive/Pnemonia classification/traindata/person1279_bacteria_3242.jpeg', '/content/drive/My Drive/Pnemonia classification/traindata/person296_bacteria_1396.jpeg', '/content/drive/My Drive/Pnemonia classification/traindata/NORMAL2-IM-1277-0001-0002.jpeg', '/content/drive/My Drive/Pnemonia classification/traindata/person614_virus_1183.jpeg', '/content/drive/My Drive/Pnemonia classification/traindata/person1830_bacteria_4693.jpeg', '/content/drive/My Drive/Pnemonia classification/traindata/person1111_bacteria_3052.jpeg', '/content/drive/My Drive/Pnemonia classification/traindata/person1601_bacteria_4209.jpeg', '/content/drive/My Drive/Pnemonia classification/traindata/person475_bacteria_2021.jpeg', '/content/drive/My Drive/Pnemonia classification/traindata/person1056_bacteria_2990.jpeg', '/content/drive/My Drive/Pnemonia classification/traindata/IM-0327-0001.jpeg', '/content/drive/My Drive/Pnemonia classification/traindata/NORMAL2-IM-0895-0001.jpeg', '/content/drive/My Drive/Pnemonia classification/traindata/IM-0619-0001.jpeg', '/content/drive/My Drive/Pnemonia classification/traindata/IM-0446-0001.jpeg', '/content/drive/My Drive/Pnemonia classification/traindata/person1937_bacteria_4853.jpeg', '/content/drive/My Drive/Pnemonia classification/traindata/person402_bacteria_1811.jpeg', '/content/drive/My Drive/Pnemonia classification/traindata/person721_virus_1340.jpeg', '/content/drive/My Drive/Pnemonia classification/traindata/person336_bacteria_1550.jpeg', '/content/drive/My Drive/Pnemonia classification/traindata/person1921_bacteria_4828.jpeg', '/content/drive/My Drive/Pnemonia classification/traindata/person625_bacteria_2499.jpeg', '/content/drive/My Drive/Pnemonia classification/traindata/person974_bacteria_2899.jpeg', '/content/drive/My Drive/Pnemonia classification/traindata/NORMAL2-IM-0523-0001.jpeg', '/content/drive/My Drive/Pnemonia classification/traindata/NORMAL2-IM-1400-0001.jpeg', '/content/drive/My Drive/Pnemonia classification/traindata/person351_bacteria_1623.jpeg', '/content/drive/My Drive/Pnemonia classification/traindata/person1380_bacteria_3515.jpeg', '/content/drive/My Drive/Pnemonia classification/traindata/person556_bacteria_2326.jpeg', '/content/drive/My Drive/Pnemonia classification/traindata/IM-0374-0001.jpeg', '/content/drive/My Drive/Pnemonia classification/traindata/person362_bacteria_1652.jpeg', '/content/drive/My Drive/Pnemonia classification/traindata/person75_bacteria_367.jpeg', '/content/drive/My Drive/Pnemonia classification/traindata/IM-0411-0001.jpeg', '/content/drive/My Drive/Pnemonia classification/traindata/person712_virus_1310.jpeg', '/content/drive/My Drive/Pnemonia classification/traindata/IM-0345-0001.jpeg', '/content/drive/My Drive/Pnemonia classification/traindata/person962_bacteria_2887.jpeg', '/content/drive/My Drive/Pnemonia classification/traindata/NORMAL2-IM-1422-0001.jpeg', '/content/drive/My Drive/Pnemonia classification/traindata/person55_bacteria_260.jpeg', '/content/drive/My Drive/Pnemonia classification/traindata/person564_bacteria_2342.jpeg', '/content/drive/My Drive/Pnemonia classification/traindata/person898_virus_1552.jpeg', '/content/drive/My Drive/Pnemonia classification/traindata/IM-0385-0001.jpeg', '/content/drive/My Drive/Pnemonia classification/traindata/person1216_bacteria_3168.jpeg', '/content/drive/My Drive/Pnemonia classification/traindata/person273_virus_562.jpeg', '/content/drive/My Drive/Pnemonia classification/traindata/person1294_bacteria_3257.jpeg', '/content/drive/My Drive/Pnemonia classification/traindata/NORMAL2-IM-1350-0001.jpeg', '/content/drive/My Drive/Pnemonia classification/traindata/IM-0369-0001.jpeg', '/content/drive/My Drive/Pnemonia classification/traindata/IM-0269-0001.jpeg', '/content/drive/My Drive/Pnemonia classification/traindata/person1012_bacteria_2943.jpeg', '/content/drive/My Drive/Pnemonia classification/traindata/person1441_virus_2457.jpeg', '/content/drive/My Drive/Pnemonia classification/traindata/NORMAL2-IM-0465-0001.jpeg', '/content/drive/My Drive/Pnemonia classification/traindata/person162_virus_319.jpeg', '/content/drive/My Drive/Pnemonia classification/traindata/NORMAL2-IM-0831-0001.jpeg', '/content/drive/My Drive/Pnemonia classification/traindata/person997_virus_1678.jpeg', '/content/drive/My Drive/Pnemonia classification/traindata/person616_virus_1186.jpeg', '/content/drive/My Drive/Pnemonia classification/traindata/person1709_bacteria_4524.jpeg', '/content/drive/My Drive/Pnemonia classification/traindata/NORMAL2-IM-0445-0001.jpeg', '/content/drive/My Drive/Pnemonia classification/traindata/IM-0533-0001.jpeg', '/content/drive/My Drive/Pnemonia classification/traindata/NORMAL2-IM-1303-0001.jpeg', '/content/drive/My Drive/Pnemonia classification/traindata/IM-0666-0001-0001.jpeg', '/content/drive/My Drive/Pnemonia classification/traindata/person1286_virus_2209.jpeg', '/content/drive/My Drive/Pnemonia classification/traindata/person281_bacteria_1324.jpeg', '/content/drive/My Drive/Pnemonia classification/traindata/person1096_bacteria_3037.jpeg', '/content/drive/My Drive/Pnemonia classification/traindata/person1263_bacteria_3221.jpeg', '/content/drive/My Drive/Pnemonia classification/traindata/IM-0417-0001.jpeg', '/content/drive/My Drive/Pnemonia classification/traindata/NORMAL2-IM-1308-0001.jpeg', '/content/drive/My Drive/Pnemonia classification/traindata/NORMAL2-IM-1287-0001.jpeg', '/content/drive/My Drive/Pnemonia classification/traindata/person1063_virus_1765.jpeg', '/content/drive/My Drive/Pnemonia classification/traindata/person61_bacteria_294.jpeg', '/content/drive/My Drive/Pnemonia classification/traindata/person1413_bacteria_3615.jpeg', '/content/drive/My Drive/Pnemonia classification/traindata/person253_bacteria_1157.jpeg', '/content/drive/My Drive/Pnemonia classification/traindata/person1069_bacteria_3003.jpeg', '/content/drive/My Drive/Pnemonia classification/traindata/NORMAL2-IM-0500-0001.jpeg', '/content/drive/My Drive/Pnemonia classification/traindata/person19_bacteria_60.jpeg', '/content/drive/My Drive/Pnemonia classification/traindata/IM-0622-0001-0001.jpeg', '/content/drive/My Drive/Pnemonia classification/traindata/person1483_virus_2574.jpeg', '/content/drive/My Drive/Pnemonia classification/traindata/IM-0737-0001.jpeg', '/content/drive/My Drive/Pnemonia classification/traindata/IM-0523-0001-0001.jpeg', '/content/drive/My Drive/Pnemonia classification/traindata/person441_bacteria_1917.jpeg', '/content/drive/My Drive/Pnemonia classification/traindata/IM-0367-0001.jpeg', '/content/drive/My Drive/Pnemonia classification/traindata/person1556_bacteria_4062.jpeg', '/content/drive/My Drive/Pnemonia classification/traindata/person1642_bacteria_4353.jpeg', '/content/drive/My Drive/Pnemonia classification/traindata/person1500_virus_2610.jpeg', '/content/drive/My Drive/Pnemonia classification/traindata/person1619_bacteria_4269.jpeg', '/content/drive/My Drive/Pnemonia classification/traindata/person59_bacteria_282.jpeg', '/content/drive/My Drive/Pnemonia classification/traindata/IM-0641-0001.jpeg', '/content/drive/My Drive/Pnemonia classification/traindata/person291_bacteria_1376.jpeg', '/content/drive/My Drive/Pnemonia classification/traindata/person407_virus_814.jpeg', '/content/drive/My Drive/Pnemonia classification/traindata/person964_virus_1637.jpeg', '/content/drive/My Drive/Pnemonia classification/traindata/person319_bacteria_1475.jpeg', '/content/drive/My Drive/Pnemonia classification/traindata/person132_virus_266.jpeg', '/content/drive/My Drive/Pnemonia classification/traindata/NORMAL2-IM-0848-0001.jpeg', '/content/drive/My Drive/Pnemonia classification/traindata/person423_bacteria_1858.jpeg', '/content/drive/My Drive/Pnemonia classification/traindata/person685_bacteria_2581.jpeg', '/content/drive/My Drive/Pnemonia classification/traindata/NORMAL2-IM-0832-0001.jpeg', '/content/drive/My Drive/Pnemonia classification/traindata/person1249_bacteria_3205.jpeg', '/content/drive/My Drive/Pnemonia classification/traindata/person1756_bacteria_4598.jpeg', '/content/drive/My Drive/Pnemonia classification/traindata/person806_virus_1440.jpeg', '/content/drive/My Drive/Pnemonia classification/traindata/person258_bacteria_1207.jpeg', '/content/drive/My Drive/Pnemonia classification/traindata/person1286_bacteria_3249.jpeg', '/content/drive/My Drive/Pnemonia classification/traindata/NORMAL2-IM-0995-0001-0001.jpeg', '/content/drive/My Drive/Pnemonia classification/traindata/IM-0280-0001.jpeg', '/content/drive/My Drive/Pnemonia classification/traindata/person294_virus_611.jpeg', '/content/drive/My Drive/Pnemonia classification/traindata/NORMAL2-IM-0474-0001.jpeg', '/content/drive/My Drive/Pnemonia classification/traindata/NORMAL2-IM-0730-0001.jpeg', '/content/drive/My Drive/Pnemonia classification/traindata/person301_virus_622.jpeg', '/content/drive/My Drive/Pnemonia classification/traindata/person1599_virus_2775.jpeg', '/content/drive/My Drive/Pnemonia classification/traindata/person1652_bacteria_4383.jpeg', '/content/drive/My Drive/Pnemonia classification/traindata/person1251_bacteria_3208.jpeg', '/content/drive/My Drive/Pnemonia classification/traindata/NORMAL2-IM-1264-0001.jpeg', '/content/drive/My Drive/Pnemonia classification/traindata/NORMAL2-IM-0925-0001.jpeg', '/content/drive/My Drive/Pnemonia classification/traindata/person1493_bacteria_3897.jpeg', '/content/drive/My Drive/Pnemonia classification/traindata/IM-0128-0001.jpeg', '/content/drive/My Drive/Pnemonia classification/traindata/person1089_virus_1808.jpeg', '/content/drive/My Drive/Pnemonia classification/traindata/person1349_bacteria_3438.jpeg', '/content/drive/My Drive/Pnemonia classification/traindata/person1528_bacteria_3996.jpeg', '/content/drive/My Drive/Pnemonia classification/traindata/person426_virus_873.jpeg', '/content/drive/My Drive/Pnemonia classification/traindata/IM-0466-0001.jpeg', '/content/drive/My Drive/Pnemonia classification/traindata/person419_bacteria_1845.jpeg', '/content/drive/My Drive/Pnemonia classification/traindata/person1139_virus_1882.jpeg', '/content/drive/My Drive/Pnemonia classification/traindata/person310_bacteria_1450.jpeg', '/content/drive/My Drive/Pnemonia classification/traindata/IM-0667-0001.jpeg', '/content/drive/My Drive/Pnemonia classification/traindata/person1465_virus_2537.jpeg', '/content/drive/My Drive/Pnemonia classification/traindata/person1924_bacteria_4833.jpeg', '/content/drive/My Drive/Pnemonia classification/traindata/IM-0483-0001.jpeg', '/content/drive/My Drive/Pnemonia classification/traindata/person754_virus_1379.jpeg', '/content/drive/My Drive/Pnemonia classification/traindata/NORMAL2-IM-0634-0001.jpeg', '/content/drive/My Drive/Pnemonia classification/traindata/person1469_bacteria_3827.jpeg', '/content/drive/My Drive/Pnemonia classification/traindata/person899_virus_1553.jpeg', '/content/drive/My Drive/Pnemonia classification/traindata/NORMAL2-IM-0849-0001.jpeg', '/content/drive/My Drive/Pnemonia classification/traindata/NORMAL2-IM-0515-0001.jpeg', '/content/drive/My Drive/Pnemonia classification/traindata/person312_bacteria_1456.jpeg', '/content/drive/My Drive/Pnemonia classification/traindata/person596_bacteria_2445.jpeg', '/content/drive/My Drive/Pnemonia classification/traindata/NORMAL2-IM-0407-0001.jpeg', '/content/drive/My Drive/Pnemonia classification/traindata/person1896_bacteria_4788.jpeg', '/content/drive/My Drive/Pnemonia classification/traindata/person393_virus_784.jpeg', '/content/drive/My Drive/Pnemonia classification/traindata/person646_bacteria_2538.jpeg', '/content/drive/My Drive/Pnemonia classification/traindata/person1910_bacteria_4814.jpeg', '/content/drive/My Drive/Pnemonia classification/traindata/person277_bacteria_1305.jpeg', '/content/drive/My Drive/Pnemonia classification/traindata/person1601_bacteria_4212.jpeg', '/content/drive/My Drive/Pnemonia classification/traindata/NORMAL2-IM-1164-0001.jpeg', '/content/drive/My Drive/Pnemonia classification/traindata/person991_virus_1669.jpeg', '/content/drive/My Drive/Pnemonia classification/traindata/person260_bacteria_1222.jpeg', '/content/drive/My Drive/Pnemonia classification/traindata/person702_bacteria_2601.jpeg', '/content/drive/My Drive/Pnemonia classification/traindata/person368_bacteria_1666.jpeg', '/content/drive/My Drive/Pnemonia classification/traindata/person89_virus_168.jpeg', '/content/drive/My Drive/Pnemonia classification/traindata/person278_bacteria_1309.jpeg', '/content/drive/My Drive/Pnemonia classification/traindata/person444_virus_911.jpeg', '/content/drive/My Drive/Pnemonia classification/traindata/person1185_bacteria_3133.jpeg', '/content/drive/My Drive/Pnemonia classification/traindata/IM-0629-0001-0003.jpeg', '/content/drive/My Drive/Pnemonia classification/traindata/person292_virus_597.jpeg', '/content/drive/My Drive/Pnemonia classification/traindata/person1679_bacteria_4449.jpeg', '/content/drive/My Drive/Pnemonia classification/traindata/person16_bacteria_53.jpeg', '/content/drive/My Drive/Pnemonia classification/traindata/person1391_bacteria_3537.jpeg', '/content/drive/My Drive/Pnemonia classification/traindata/person1723_bacteria_4548.jpeg', '/content/drive/My Drive/Pnemonia classification/traindata/NORMAL2-IM-0421-0001.jpeg', '/content/drive/My Drive/Pnemonia classification/traindata/person1236_bacteria_3192.jpeg', '/content/drive/My Drive/Pnemonia classification/traindata/person1677_bacteria_4443.jpeg', '/content/drive/My Drive/Pnemonia classification/traindata/person890_virus_1540.jpeg', '/content/drive/My Drive/Pnemonia classification/traindata/person571_bacteria_2367.jpeg', '/content/drive/My Drive/Pnemonia classification/traindata/person7_bacteria_25.jpeg', '/content/drive/My Drive/Pnemonia classification/traindata/person600_virus_1156.jpeg', '/content/drive/My Drive/Pnemonia classification/traindata/person1476_bacteria_3843.jpeg', '/content/drive/My Drive/Pnemonia classification/traindata/NORMAL2-IM-0507-0001.jpeg', '/content/drive/My Drive/Pnemonia classification/traindata/person506_bacteria_2138.jpeg', '/content/drive/My Drive/Pnemonia classification/traindata/person305_bacteria_1437.jpeg', '/content/drive/My Drive/Pnemonia classification/traindata/person382_bacteria_1741.jpeg', '/content/drive/My Drive/Pnemonia classification/traindata/person1904_bacteria_4798.jpeg', '/content/drive/My Drive/Pnemonia classification/traindata/person499_virus_1008.jpeg', '/content/drive/My Drive/Pnemonia classification/traindata/NORMAL2-IM-0441-0001.jpeg', '/content/drive/My Drive/Pnemonia classification/traindata/person1594_bacteria_4182.jpeg', '/content/drive/My Drive/Pnemonia classification/traindata/person1068_bacteria_3002.jpeg', '/content/drive/My Drive/Pnemonia classification/traindata/person1232_virus_2089.jpeg', '/content/drive/My Drive/Pnemonia classification/traindata/person996_virus_1677.jpeg', '/content/drive/My Drive/Pnemonia classification/traindata/person1083_virus_1795.jpeg', '/content/drive/My Drive/Pnemonia classification/traindata/person1730_bacteria_4559.jpeg', '/content/drive/My Drive/Pnemonia classification/traindata/NORMAL2-IM-0806-0001.jpeg', '/content/drive/My Drive/Pnemonia classification/traindata/NORMAL2-IM-0719-0001.jpeg', '/content/drive/My Drive/Pnemonia classification/traindata/person576_virus_1120.jpeg', '/content/drive/My Drive/Pnemonia classification/traindata/IM-0332-0001.jpeg', '/content/drive/My Drive/Pnemonia classification/traindata/person73_bacteria_356.jpeg', '/content/drive/My Drive/Pnemonia classification/traindata/person1352_bacteria_3444.jpeg', '/content/drive/My Drive/Pnemonia classification/traindata/person382_bacteria_1738.jpeg', '/content/drive/My Drive/Pnemonia classification/traindata/person880_virus_1529.jpeg', '/content/drive/My Drive/Pnemonia classification/traindata/NORMAL2-IM-1162-0001.jpeg', '/content/drive/My Drive/Pnemonia classification/traindata/person356_bacteria_1638.jpeg', '/content/drive/My Drive/Pnemonia classification/traindata/person308_bacteria_1445.jpeg', '/content/drive/My Drive/Pnemonia classification/traindata/person574_bacteria_2373.jpeg', '/content/drive/My Drive/Pnemonia classification/traindata/person466_bacteria_1984.jpeg', '/content/drive/My Drive/Pnemonia classification/traindata/person95_virus_177.jpeg', '/content/drive/My Drive/Pnemonia classification/traindata/person1614_bacteria_4248.jpeg', '/content/drive/My Drive/Pnemonia classification/traindata/person564_bacteria_2345.jpeg', '/content/drive/My Drive/Pnemonia classification/traindata/person1751_bacteria_4592.jpeg', '/content/drive/My Drive/Pnemonia classification/traindata/person1716_bacteria_4533.jpeg', '/content/drive/My Drive/Pnemonia classification/traindata/person835_virus_1472.jpeg', '/content/drive/My Drive/Pnemonia classification/traindata/NORMAL2-IM-0680-0001.jpeg', '/content/drive/My Drive/Pnemonia classification/traindata/NORMAL2-IM-0777-0001.jpeg', '/content/drive/My Drive/Pnemonia classification/traindata/person1039_bacteria_2973.jpeg', '/content/drive/My Drive/Pnemonia classification/traindata/person547_bacteria_2294.jpeg', '/content/drive/My Drive/Pnemonia classification/traindata/NORMAL2-IM-0700-0001.jpeg', '/content/drive/My Drive/Pnemonia classification/traindata/person1019_bacteria_2950.jpeg', '/content/drive/My Drive/Pnemonia classification/traindata/person1454_virus_2486.jpeg', '/content/drive/My Drive/Pnemonia classification/traindata/person424_bacteria_1859.jpeg', '/content/drive/My Drive/Pnemonia classification/traindata/person626_virus_1202.jpeg', '/content/drive/My Drive/Pnemonia classification/traindata/person1040_virus_1735.jpeg', '/content/drive/My Drive/Pnemonia classification/traindata/person1509_bacteria_3951.jpeg', '/content/drive/My Drive/Pnemonia classification/traindata/person525_bacteria_2216.jpeg', '/content/drive/My Drive/Pnemonia classification/traindata/person392_bacteria_1785.jpeg', '/content/drive/My Drive/Pnemonia classification/traindata/person382_bacteria_1746.jpeg', '/content/drive/My Drive/Pnemonia classification/traindata/person1073_bacteria_3008.jpeg', '/content/drive/My Drive/Pnemonia classification/traindata/person402_bacteria_1813.jpeg', '/content/drive/My Drive/Pnemonia classification/traindata/person604_bacteria_2462.jpeg', '/content/drive/My Drive/Pnemonia classification/traindata/IM-0735-0001.jpeg', '/content/drive/My Drive/Pnemonia classification/traindata/IM-0511-0001.jpeg', '/content/drive/My Drive/Pnemonia classification/traindata/NORMAL2-IM-0851-0001-0001.jpeg', '/content/drive/My Drive/Pnemonia classification/traindata/person1460_bacteria_3805.jpeg', '/content/drive/My Drive/Pnemonia classification/traindata/IM-0557-0001.jpeg', '/content/drive/My Drive/Pnemonia classification/traindata/person1141_virus_1890.jpeg', '/content/drive/My Drive/Pnemonia classification/traindata/person1468_virus_2546.jpeg', '/content/drive/My Drive/Pnemonia classification/traindata/NORMAL2-IM-0566-0001.jpeg', '/content/drive/My Drive/Pnemonia classification/traindata/person462_bacteria_1968.jpeg', '/content/drive/My Drive/Pnemonia classification/traindata/person1449_bacteria_3747.jpeg', '/content/drive/My Drive/Pnemonia classification/traindata/person1685_bacteria_4465.jpeg', '/content/drive/My Drive/Pnemonia classification/traindata/IM-0453-0001-0002.jpeg', '/content/drive/My Drive/Pnemonia classification/traindata/person296_bacteria_1397.jpeg', '/content/drive/My Drive/Pnemonia classification/traindata/person1491_bacteria_3892.jpeg', '/content/drive/My Drive/Pnemonia classification/traindata/IM-0486-0001.jpeg', '/content/drive/My Drive/Pnemonia classification/traindata/person451_virus_932.jpeg', '/content/drive/My Drive/Pnemonia classification/traindata/person75_bacteria_366.jpeg', '/content/drive/My Drive/Pnemonia classification/traindata/NORMAL2-IM-0876-0001.jpeg', '/content/drive/My Drive/Pnemonia classification/traindata/NORMAL2-IM-0633-0001.jpeg', '/content/drive/My Drive/Pnemonia classification/traindata/IM-0553-0001-0002.jpeg', '/content/drive/My Drive/Pnemonia classification/traindata/person1198_bacteria_3148.jpeg', '/content/drive/My Drive/Pnemonia classification/traindata/person579_bacteria_2386.jpeg', '/content/drive/My Drive/Pnemonia classification/traindata/person426_bacteria_1863.jpeg', '/content/drive/My Drive/Pnemonia classification/traindata/person612_virus_1179.jpeg', '/content/drive/My Drive/Pnemonia classification/traindata/person1296_virus_2224.jpeg', '/content/drive/My Drive/Pnemonia classification/traindata/IM-0583-0001.jpeg', '/content/drive/My Drive/Pnemonia classification/traindata/person294_bacteria_1381.jpeg', '/content/drive/My Drive/Pnemonia classification/traindata/person1143_virus_1896.jpeg', '/content/drive/My Drive/Pnemonia classification/traindata/person600_bacteria_2458.jpeg', '/content/drive/My Drive/Pnemonia classification/traindata/person849_bacteria_2770.jpeg', '/content/drive/My Drive/Pnemonia classification/traindata/person422_bacteria_1853.jpeg', '/content/drive/My Drive/Pnemonia classification/traindata/person344_bacteria_1585.jpeg', '/content/drive/My Drive/Pnemonia classification/traindata/person458_bacteria_1955.jpeg', '/content/drive/My Drive/Pnemonia classification/traindata/NORMAL2-IM-0501-0001.jpeg', '/content/drive/My Drive/Pnemonia classification/traindata/person1397_virus_2400.jpeg', '/content/drive/My Drive/Pnemonia classification/traindata/person1317_bacteria_3332.jpeg', '/content/drive/My Drive/Pnemonia classification/traindata/person1585_bacteria_4155.jpeg', '/content/drive/My Drive/Pnemonia classification/traindata/IM-0629-0001-0002.jpeg', '/content/drive/My Drive/Pnemonia classification/traindata/person349_bacteria_1606.jpeg', '/content/drive/My Drive/Pnemonia classification/traindata/person1343_bacteria_3414.jpeg', '/content/drive/My Drive/Pnemonia classification/traindata/person1345_bacteria_3424.jpeg', '/content/drive/My Drive/Pnemonia classification/traindata/person911_virus_1567.jpeg', '/content/drive/My Drive/Pnemonia classification/traindata/person1496_bacteria_3910.jpeg', '/content/drive/My Drive/Pnemonia classification/traindata/person30_bacteria_154.jpeg', '/content/drive/My Drive/Pnemonia classification/traindata/person540_bacteria_2273.jpeg', '/content/drive/My Drive/Pnemonia classification/traindata/IM-0274-0001.jpeg', '/content/drive/My Drive/Pnemonia classification/traindata/IM-0223-0001.jpeg', '/content/drive/My Drive/Pnemonia classification/traindata/NORMAL2-IM-0727-0001.jpeg', '/content/drive/My Drive/Pnemonia classification/traindata/person298_bacteria_1410.jpeg', '/content/drive/My Drive/Pnemonia classification/traindata/person664_virus_1249.jpeg', '/content/drive/My Drive/Pnemonia classification/traindata/person1206_bacteria_3158.jpeg', '/content/drive/My Drive/Pnemonia classification/traindata/person1507_bacteria_3942.jpeg', '/content/drive/My Drive/Pnemonia classification/traindata/person25_bacteria_115.jpeg', '/content/drive/My Drive/Pnemonia classification/traindata/person486_bacteria_2052.jpeg', '/content/drive/My Drive/Pnemonia classification/traindata/IM-0698-0001.jpeg', '/content/drive/My Drive/Pnemonia classification/traindata/person428_virus_876.jpeg', '/content/drive/My Drive/Pnemonia classification/traindata/person1103_bacteria_3044.jpeg', '/content/drive/My Drive/Pnemonia classification/traindata/person270_virus_555.jpeg', '/content/drive/My Drive/Pnemonia classification/traindata/person648_virus_1230.jpeg', '/content/drive/My Drive/Pnemonia classification/traindata/person491_virus_997.jpeg', '/content/drive/My Drive/Pnemonia classification/traindata/person516_virus_1033.jpeg', '/content/drive/My Drive/Pnemonia classification/traindata/person26_bacteria_122.jpeg', '/content/drive/My Drive/Pnemonia classification/traindata/person347_bacteria_1594.jpeg', '/content/drive/My Drive/Pnemonia classification/traindata/NORMAL2-IM-1254-0001.jpeg', '/content/drive/My Drive/Pnemonia classification/traindata/IM-0693-0001.jpeg', '/content/drive/My Drive/Pnemonia classification/traindata/person545_bacteria_2288.jpeg', '/content/drive/My Drive/Pnemonia classification/traindata/person1261_virus_2147.jpeg', '/content/drive/My Drive/Pnemonia classification/traindata/IM-0501-0001.jpeg', '/content/drive/My Drive/Pnemonia classification/traindata/person693_bacteria_2590.jpeg', '/content/drive/My Drive/Pnemonia classification/traindata/IM-0359-0001.jpeg', '/content/drive/My Drive/Pnemonia classification/traindata/person1208_bacteria_3160.jpeg', '/content/drive/My Drive/Pnemonia classification/traindata/IM-0650-0001-0001.jpeg', '/content/drive/My Drive/Pnemonia classification/traindata/person8_bacteria_37.jpeg', '/content/drive/My Drive/Pnemonia classification/traindata/person677_bacteria_2571.jpeg', '/content/drive/My Drive/Pnemonia classification/traindata/person808_bacteria_2716.jpeg', '/content/drive/My Drive/Pnemonia classification/traindata/person1389_virus_2387.jpeg', '/content/drive/My Drive/Pnemonia classification/traindata/person1669_bacteria_4422.jpeg', '/content/drive/My Drive/Pnemonia classification/traindata/person26_bacteria_124.jpeg', '/content/drive/My Drive/Pnemonia classification/traindata/IM-0471-0001.jpeg', '/content/drive/My Drive/Pnemonia classification/traindata/person711_bacteria_2612.jpeg', '/content/drive/My Drive/Pnemonia classification/traindata/person1619_bacteria_4261.jpeg', '/content/drive/My Drive/Pnemonia classification/traindata/person1630_bacteria_4304.jpeg', '/content/drive/My Drive/Pnemonia classification/traindata/person1204_bacteria_3156.jpeg', '/content/drive/My Drive/Pnemonia classification/traindata/NORMAL2-IM-0986-0001.jpeg', '/content/drive/My Drive/Pnemonia classification/traindata/person1582_bacteria_4143.jpeg', '/content/drive/My Drive/Pnemonia classification/traindata/person1356_virus_2337.jpeg', '/content/drive/My Drive/Pnemonia classification/traindata/person368_virus_748.jpeg', '/content/drive/My Drive/Pnemonia classification/traindata/person1438_bacteria_3715.jpeg', '/content/drive/My Drive/Pnemonia classification/traindata/NORMAL2-IM-0970-0001.jpeg', '/content/drive/My Drive/Pnemonia classification/traindata/NORMAL2-IM-0449-0001.jpeg', '/content/drive/My Drive/Pnemonia classification/traindata/IM-0644-0001.jpeg', '/content/drive/My Drive/Pnemonia classification/traindata/person1428_virus_2442.jpeg', '/content/drive/My Drive/Pnemonia classification/traindata/NORMAL2-IM-1341-0001.jpeg', '/content/drive/My Drive/Pnemonia classification/traindata/person92_virus_174.jpeg', '/content/drive/My Drive/Pnemonia classification/traindata/person1304_bacteria_3269.jpeg', '/content/drive/My Drive/Pnemonia classification/traindata/person1394_virus_2397.jpeg', '/content/drive/My Drive/Pnemonia classification/traindata/person309_bacteria_1447.jpeg', '/content/drive/My Drive/Pnemonia classification/traindata/person956_virus_1628.jpeg', '/content/drive/My Drive/Pnemonia classification/traindata/person386_virus_771.jpeg', '/content/drive/My Drive/Pnemonia classification/traindata/person881_virus_1531.jpeg', '/content/drive/My Drive/Pnemonia classification/traindata/NORMAL2-IM-0620-0001.jpeg', '/content/drive/My Drive/Pnemonia classification/traindata/person1549_bacteria_4050.jpeg', '/content/drive/My Drive/Pnemonia classification/traindata/person1276_virus_2198.jpeg', '/content/drive/My Drive/Pnemonia classification/traindata/person353_bacteria_1628.jpeg', '/content/drive/My Drive/Pnemonia classification/traindata/person438_virus_889.jpeg', '/content/drive/My Drive/Pnemonia classification/traindata/person510_bacteria_2150.jpeg', '/content/drive/My Drive/Pnemonia classification/traindata/IM-0129-0001.jpeg', '/content/drive/My Drive/Pnemonia classification/traindata/person688_virus_1281.jpeg', '/content/drive/My Drive/Pnemonia classification/traindata/person1445_bacteria_3735.jpeg', '/content/drive/My Drive/Pnemonia classification/traindata/person1639_bacteria_4347.jpeg', '/content/drive/My Drive/Pnemonia classification/traindata/NORMAL2-IM-1329-0001.jpeg', '/content/drive/My Drive/Pnemonia classification/traindata/person967_virus_1640.jpeg', '/content/drive/My Drive/Pnemonia classification/traindata/IM-0707-0001.jpeg', '/content/drive/My Drive/Pnemonia classification/traindata/NORMAL2-IM-0933-0001.jpeg', '/content/drive/My Drive/Pnemonia classification/traindata/person445_virus_913.jpeg', '/content/drive/My Drive/Pnemonia classification/traindata/person855_virus_1500.jpeg', '/content/drive/My Drive/Pnemonia classification/traindata/person359_bacteria_1646.jpeg', '/content/drive/My Drive/Pnemonia classification/traindata/person1557_bacteria_4063.jpeg', '/content/drive/My Drive/Pnemonia classification/traindata/IM-0447-0001.jpeg', '/content/drive/My Drive/Pnemonia classification/traindata/NORMAL2-IM-1330-0001.jpeg', '/content/drive/My Drive/Pnemonia classification/traindata/person713_bacteria_2614.jpeg', '/content/drive/My Drive/Pnemonia classification/traindata/person1796_bacteria_4644.jpeg', '/content/drive/My Drive/Pnemonia classification/traindata/person23_bacteria_100.jpeg', '/content/drive/My Drive/Pnemonia classification/traindata/person13_bacteria_50.jpeg', '/content/drive/My Drive/Pnemonia classification/traindata/person890_bacteria_2814.jpeg', '/content/drive/My Drive/Pnemonia classification/traindata/person614_bacteria_2483.jpeg', '/content/drive/My Drive/Pnemonia classification/traindata/person1202_bacteria_3152.jpeg', '/content/drive/My Drive/Pnemonia classification/traindata/person1181_bacteria_3129.jpeg', '/content/drive/My Drive/Pnemonia classification/traindata/person1527_bacteria_3988.jpeg', '/content/drive/My Drive/Pnemonia classification/traindata/NORMAL2-IM-0536-0001.jpeg', '/content/drive/My Drive/Pnemonia classification/traindata/IM-0524-0001.jpeg', '/content/drive/My Drive/Pnemonia classification/traindata/NORMAL2-IM-0832-0001-0002.jpeg', '/content/drive/My Drive/Pnemonia classification/traindata/IM-0283-0001.jpeg', '/content/drive/My Drive/Pnemonia classification/traindata/person1178_virus_2004.jpeg', '/content/drive/My Drive/Pnemonia classification/traindata/person258_bacteria_1209.jpeg', '/content/drive/My Drive/Pnemonia classification/traindata/NORMAL2-IM-0487-0001.jpeg', '/content/drive/My Drive/Pnemonia classification/traindata/person993_bacteria_2921.jpeg', '/content/drive/My Drive/Pnemonia classification/traindata/person1764_bacteria_4607.jpeg', '/content/drive/My Drive/Pnemonia classification/traindata/person280_virus_577.jpeg', '/content/drive/My Drive/Pnemonia classification/traindata/NORMAL2-IM-1293-0001.jpeg', '/content/drive/My Drive/Pnemonia classification/traindata/person518_virus_1036.jpeg', '/content/drive/My Drive/Pnemonia classification/traindata/person802_bacteria_2708.jpeg', '/content/drive/My Drive/Pnemonia classification/traindata/person1444_bacteria_3732.jpeg', '/content/drive/My Drive/Pnemonia classification/traindata/person253_bacteria_1156.jpeg', '/content/drive/My Drive/Pnemonia classification/traindata/person45_bacteria_221.jpeg', '/content/drive/My Drive/Pnemonia classification/traindata/person328_bacteria_1511.jpeg', '/content/drive/My Drive/Pnemonia classification/traindata/person383_bacteria_1751.jpeg', '/content/drive/My Drive/Pnemonia classification/traindata/person96_virus_178.jpeg', '/content/drive/My Drive/Pnemonia classification/traindata/person1589_virus_2763.jpeg', '/content/drive/My Drive/Pnemonia classification/traindata/NORMAL2-IM-0809-0001.jpeg', '/content/drive/My Drive/Pnemonia classification/traindata/person588_virus_1135.jpeg', '/content/drive/My Drive/Pnemonia classification/traindata/person1486_bacteria_3883.jpeg', '/content/drive/My Drive/Pnemonia classification/traindata/person5_bacteria_19.jpeg', '/content/drive/My Drive/Pnemonia classification/traindata/person1226_virus_2077.jpeg', '/content/drive/My Drive/Pnemonia classification/traindata/person1519_bacteria_3970.jpeg', '/content/drive/My Drive/Pnemonia classification/traindata/person51_bacteria_248.jpeg', '/content/drive/My Drive/Pnemonia classification/traindata/IM-0437-0001-0002.jpeg', '/content/drive/My Drive/Pnemonia classification/traindata/person57_bacteria_271.jpeg', '/content/drive/My Drive/Pnemonia classification/traindata/NORMAL2-IM-0820-0001.jpeg', '/content/drive/My Drive/Pnemonia classification/traindata/person502_bacteria_2122.jpeg', '/content/drive/My Drive/Pnemonia classification/traindata/person423_virus_869.jpeg', '/content/drive/My Drive/Pnemonia classification/traindata/NORMAL2-IM-0903-0001.jpeg', '/content/drive/My Drive/Pnemonia classification/traindata/person1496_virus_2605.jpeg', '/content/drive/My Drive/Pnemonia classification/traindata/person1689_bacteria_4472.jpeg', '/content/drive/My Drive/Pnemonia classification/traindata/NORMAL2-IM-0645-0001.jpeg', '/content/drive/My Drive/Pnemonia classification/traindata/IM-0685-0001.jpeg', '/content/drive/My Drive/Pnemonia classification/traindata/person318_virus_644.jpeg', '/content/drive/My Drive/Pnemonia classification/traindata/person960_virus_1633.jpeg', '/content/drive/My Drive/Pnemonia classification/traindata/person420_bacteria_1849.jpeg', '/content/drive/My Drive/Pnemonia classification/traindata/person1418_bacteria_3643.jpeg', '/content/drive/My Drive/Pnemonia classification/traindata/person464_bacteria_1975.jpeg', '/content/drive/My Drive/Pnemonia classification/traindata/person562_virus_1102.jpeg', '/content/drive/My Drive/Pnemonia classification/traindata/person1531_bacteria_4003.jpeg', '/content/drive/My Drive/Pnemonia classification/traindata/person520_bacteria_2204.jpeg', '/content/drive/My Drive/Pnemonia classification/traindata/person336_bacteria_1553.jpeg', '/content/drive/My Drive/Pnemonia classification/traindata/person348_bacteria_1604.jpeg', '/content/drive/My Drive/Pnemonia classification/traindata/person1340_bacteria_3405.jpeg', '/content/drive/My Drive/Pnemonia classification/traindata/person452_bacteria_1943.jpeg', '/content/drive/My Drive/Pnemonia classification/traindata/person1884_bacteria_4771.jpeg', '/content/drive/My Drive/Pnemonia classification/traindata/person1398_bacteria_3548.jpeg', '/content/drive/My Drive/Pnemonia classification/traindata/IM-0613-0001.jpeg', '/content/drive/My Drive/Pnemonia classification/traindata/person438_bacteria_1892.jpeg', '/content/drive/My Drive/Pnemonia classification/traindata/person267_bacteria_1250.jpeg', '/content/drive/My Drive/Pnemonia classification/traindata/NORMAL2-IM-1135-0001.jpeg', '/content/drive/My Drive/Pnemonia classification/traindata/person471_bacteria_2005.jpeg', '/content/drive/My Drive/Pnemonia classification/traindata/person1883_bacteria_4769.jpeg', '/content/drive/My Drive/Pnemonia classification/traindata/person257_bacteria_1194.jpeg', '/content/drive/My Drive/Pnemonia classification/traindata/NORMAL2-IM-1128-0001-0002.jpeg', '/content/drive/My Drive/Pnemonia classification/traindata/person511_virus_1027.jpeg', '/content/drive/My Drive/Pnemonia classification/traindata/person309_virus_632.jpeg', '/content/drive/My Drive/Pnemonia classification/traindata/NORMAL2-IM-1025-0001.jpeg', '/content/drive/My Drive/Pnemonia classification/traindata/person1242_bacteria_3198.jpeg', '/content/drive/My Drive/Pnemonia classification/traindata/person66_bacteria_325.jpeg', '/content/drive/My Drive/Pnemonia classification/traindata/person1522_virus_2651.jpeg', '/content/drive/My Drive/Pnemonia classification/traindata/person260_bacteria_1223.jpeg', '/content/drive/My Drive/Pnemonia classification/traindata/NORMAL2-IM-0915-0001.jpeg', '/content/drive/My Drive/Pnemonia classification/traindata/person265_virus_548.jpeg', '/content/drive/My Drive/Pnemonia classification/traindata/person1170_bacteria_3117.jpeg', '/content/drive/My Drive/Pnemonia classification/traindata/person295_bacteria_1389.jpeg', '/content/drive/My Drive/Pnemonia classification/traindata/person629_bacteria_2510.jpeg', '/content/drive/My Drive/Pnemonia classification/traindata/person1069_virus_1772.jpeg', '/content/drive/My Drive/Pnemonia classification/traindata/person581_bacteria_2394.jpeg', '/content/drive/My Drive/Pnemonia classification/traindata/person1483_bacteria_3876.jpeg', '/content/drive/My Drive/Pnemonia classification/traindata/IM-0356-0001.jpeg', '/content/drive/My Drive/Pnemonia classification/traindata/person603_virus_1164.jpeg', '/content/drive/My Drive/Pnemonia classification/traindata/person522_bacteria_2211.jpeg', '/content/drive/My Drive/Pnemonia classification/traindata/person576_bacteria_2376.jpeg', '/content/drive/My Drive/Pnemonia classification/traindata/person482_bacteria_2044.jpeg', '/content/drive/My Drive/Pnemonia classification/traindata/person19_bacteria_62.jpeg', '/content/drive/My Drive/Pnemonia classification/traindata/person723_bacteria_2625.jpeg', '/content/drive/My Drive/Pnemonia classification/traindata/person509_virus_1024.jpeg', '/content/drive/My Drive/Pnemonia classification/traindata/person321_virus_648.jpeg', '/content/drive/My Drive/Pnemonia classification/traindata/person1268_bacteria_3228.jpeg', '/content/drive/My Drive/Pnemonia classification/traindata/IM-0686-0001.jpeg', '/content/drive/My Drive/Pnemonia classification/traindata/person585_bacteria_2413.jpeg', '/content/drive/My Drive/Pnemonia classification/traindata/NORMAL2-IM-0439-0001.jpeg', '/content/drive/My Drive/Pnemonia classification/traindata/person1524_virus_2658.jpeg', '/content/drive/My Drive/Pnemonia classification/traindata/person1144_bacteria_3089.jpeg', '/content/drive/My Drive/Pnemonia classification/traindata/person1548_virus_2689.jpeg', '/content/drive/My Drive/Pnemonia classification/traindata/IM-0444-0001.jpeg', '/content/drive/My Drive/Pnemonia classification/traindata/person1310_bacteria_3297.jpeg', '/content/drive/My Drive/Pnemonia classification/traindata/person1318_bacteria_3334.jpeg', '/content/drive/My Drive/Pnemonia classification/traindata/NORMAL2-IM-1010-0001.jpeg', '/content/drive/My Drive/Pnemonia classification/traindata/person779_bacteria_2683.jpeg', '/content/drive/My Drive/Pnemonia classification/traindata/person1247_bacteria_3203.jpeg', '/content/drive/My Drive/Pnemonia classification/traindata/person316_bacteria_1469.jpeg', '/content/drive/My Drive/Pnemonia classification/traindata/NORMAL2-IM-0655-0001.jpeg', '/content/drive/My Drive/Pnemonia classification/traindata/person1414_bacteria_3627.jpeg', '/content/drive/My Drive/Pnemonia classification/traindata/person368_bacteria_1667.jpeg', '/content/drive/My Drive/Pnemonia classification/traindata/person410_bacteria_1825.jpeg', '/content/drive/My Drive/Pnemonia classification/traindata/NORMAL2-IM-0512-0001.jpeg', '/content/drive/My Drive/Pnemonia classification/traindata/NORMAL2-IM-0394-0001.jpeg', '/content/drive/My Drive/Pnemonia classification/traindata/person1628_bacteria_4298.jpeg', '/content/drive/My Drive/Pnemonia classification/traindata/person1881_bacteria_4767.jpeg', '/content/drive/My Drive/Pnemonia classification/traindata/person1176_virus_1998.jpeg', '/content/drive/My Drive/Pnemonia classification/traindata/IM-0428-0001.jpeg', '/content/drive/My Drive/Pnemonia classification/traindata/person597_bacteria_2450.jpeg', '/content/drive/My Drive/Pnemonia classification/traindata/person512_bacteria_2155.jpeg', '/content/drive/My Drive/Pnemonia classification/traindata/IM-0484-0001.jpeg', '/content/drive/My Drive/Pnemonia classification/traindata/person1670_bacteria_4431.jpeg', '/content/drive/My Drive/Pnemonia classification/traindata/person1409_bacteria_3583.jpeg', '/content/drive/My Drive/Pnemonia classification/traindata/IM-0308-0001.jpeg', '/content/drive/My Drive/Pnemonia classification/traindata/person528_virus_1049.jpeg', '/content/drive/My Drive/Pnemonia classification/traindata/person1262_bacteria_3220.jpeg', '/content/drive/My Drive/Pnemonia classification/traindata/person852_virus_1497.jpeg', '/content/drive/My Drive/Pnemonia classification/traindata/person1906_bacteria_4803.jpeg', '/content/drive/My Drive/Pnemonia classification/traindata/person310_virus_633.jpeg', '/content/drive/My Drive/Pnemonia classification/traindata/IM-0620-0001-0001.jpeg', '/content/drive/My Drive/Pnemonia classification/traindata/person544_virus_1074.jpeg', '/content/drive/My Drive/Pnemonia classification/traindata/person288_virus_587.jpeg', '/content/drive/My Drive/Pnemonia classification/traindata/IM-0474-0001.jpeg', '/content/drive/My Drive/Pnemonia classification/traindata/person347_bacteria_1597.jpeg', '/content/drive/My Drive/Pnemonia classification/traindata/IM-0670-0001.jpeg', '/content/drive/My Drive/Pnemonia classification/traindata/NORMAL2-IM-1351-0001.jpeg', '/content/drive/My Drive/Pnemonia classification/traindata/person687_bacteria_2583.jpeg', '/content/drive/My Drive/Pnemonia classification/traindata/IM-0719-0001.jpeg', '/content/drive/My Drive/Pnemonia classification/traindata/person1378_bacteria_3513.jpeg', '/content/drive/My Drive/Pnemonia classification/traindata/person389_virus_778.jpeg', '/content/drive/My Drive/Pnemonia classification/traindata/person372_bacteria_1706.jpeg', '/content/drive/My Drive/Pnemonia classification/traindata/person1149_virus_1924.jpeg', '/content/drive/My Drive/Pnemonia classification/traindata/person553_virus_1093.jpeg', '/content/drive/My Drive/Pnemonia classification/traindata/person138_virus_282.jpeg', '/content/drive/My Drive/Pnemonia classification/traindata/person800_bacteria_2706.jpeg', '/content/drive/My Drive/Pnemonia classification/traindata/person526_bacteria_2221.jpeg', '/content/drive/My Drive/Pnemonia classification/traindata/person1167_bacteria_3113.jpeg', '/content/drive/My Drive/Pnemonia classification/traindata/person967_bacteria_2892.jpeg', '/content/drive/My Drive/Pnemonia classification/traindata/IM-0372-0001.jpeg', '/content/drive/My Drive/Pnemonia classification/traindata/IM-0750-0001.jpeg', '/content/drive/My Drive/Pnemonia classification/traindata/person1199_bacteria_3149.jpeg', '/content/drive/My Drive/Pnemonia classification/traindata/IM-0533-0001-0002.jpeg', '/content/drive/My Drive/Pnemonia classification/traindata/person863_virus_1508.jpeg', '/content/drive/My Drive/Pnemonia classification/traindata/person577_virus_1121.jpeg', '/content/drive/My Drive/Pnemonia classification/traindata/person965_bacteria_2890.jpeg', '/content/drive/My Drive/Pnemonia classification/traindata/person927_virus_1584.jpeg', '/content/drive/My Drive/Pnemonia classification/traindata/person371_bacteria_1694.jpeg', '/content/drive/My Drive/Pnemonia classification/traindata/IM-0400-0001.jpeg', '/content/drive/My Drive/Pnemonia classification/traindata/NORMAL2-IM-1270-0001.jpeg', '/content/drive/My Drive/Pnemonia classification/traindata/person598_virus_1154.jpeg', '/content/drive/My Drive/Pnemonia classification/traindata/person1513_virus_2632.jpeg', '/content/drive/My Drive/Pnemonia classification/traindata/person383_bacteria_1752.jpeg', '/content/drive/My Drive/Pnemonia classification/traindata/NORMAL2-IM-0926-0001.jpeg', '/content/drive/My Drive/Pnemonia classification/traindata/NORMAL2-IM-1026-0001.jpeg', '/content/drive/My Drive/Pnemonia classification/traindata/NORMAL2-IM-0807-0001.jpeg', '/content/drive/My Drive/Pnemonia classification/traindata/IM-0238-0001.jpeg', '/content/drive/My Drive/Pnemonia classification/traindata/person37_bacteria_188.jpeg', '/content/drive/My Drive/Pnemonia classification/traindata/IM-0551-0001-0001.jpeg', '/content/drive/My Drive/Pnemonia classification/traindata/person370_virus_752.jpeg', '/content/drive/My Drive/Pnemonia classification/traindata/person1343_bacteria_3413.jpeg', '/content/drive/My Drive/Pnemonia classification/traindata/NORMAL2-IM-0462-0001.jpeg', '/content/drive/My Drive/Pnemonia classification/traindata/NORMAL2-IM-0485-0001.jpeg', '/content/drive/My Drive/Pnemonia classification/traindata/person395_virus_788.jpeg', '/content/drive/My Drive/Pnemonia classification/traindata/IM-0405-0001.jpeg', '/content/drive/My Drive/Pnemonia classification/traindata/IM-0575-0001.jpeg', '/content/drive/My Drive/Pnemonia classification/traindata/person281_bacteria_1329.jpeg', '/content/drive/My Drive/Pnemonia classification/traindata/NORMAL2-IM-0437-0001.jpeg', '/content/drive/My Drive/Pnemonia classification/traindata/IM-0606-0001.jpeg', '/content/drive/My Drive/Pnemonia classification/traindata/person1266_bacteria_3225.jpeg', '/content/drive/My Drive/Pnemonia classification/traindata/NORMAL2-IM-0621-0001.jpeg', '/content/drive/My Drive/Pnemonia classification/traindata/person1072_virus_1775.jpeg', '/content/drive/My Drive/Pnemonia classification/traindata/person1502_bacteria_3929.jpeg', '/content/drive/My Drive/Pnemonia classification/traindata/person525_bacteria_2220.jpeg', '/content/drive/My Drive/Pnemonia classification/traindata/person658_bacteria_2550.jpeg', '/content/drive/My Drive/Pnemonia classification/traindata/NORMAL2-IM-0589-0001.jpeg', '/content/drive/My Drive/Pnemonia classification/traindata/person1799_bacteria_4647.jpeg', '/content/drive/My Drive/Pnemonia classification/traindata/person1463_bacteria_3808.jpeg', '/content/drive/My Drive/Pnemonia classification/traindata/person67_bacteria_331.jpeg', '/content/drive/My Drive/Pnemonia classification/traindata/person389_bacteria_1780.jpeg', '/content/drive/My Drive/Pnemonia classification/traindata/IM-0709-0001.jpeg', '/content/drive/My Drive/Pnemonia classification/traindata/person1175_virus_1981.jpeg', '/content/drive/My Drive/Pnemonia classification/traindata/NORMAL2-IM-1108-0001.jpeg', '/content/drive/My Drive/Pnemonia classification/traindata/IM-0279-0001.jpeg', '/content/drive/My Drive/Pnemonia classification/traindata/person734_bacteria_2637.jpeg', '/content/drive/My Drive/Pnemonia classification/traindata/IM-0666-0001-0002.jpeg', '/content/drive/My Drive/Pnemonia classification/traindata/NORMAL2-IM-1197-0001.jpeg']\n"
          ]
        }
      ],
      "source": [
        "print(X_train)"
      ]
    },
    {
      "cell_type": "code",
      "execution_count": null,
      "metadata": {
        "colab": {
          "base_uri": "https://localhost:8080/"
        },
        "id": "jgwlFs2kktKi",
        "outputId": "9cf5f1b5-21e6-410f-de68-d4cf9e3be704"
      },
      "outputs": [
        {
          "output_type": "execute_result",
          "data": {
            "text/plain": [
              "(800, 1016)"
            ]
          },
          "metadata": {},
          "execution_count": 20
        }
      ],
      "source": [
        "# Convert image into np array\n",
        "from matplotlib.pyplot import imread\n",
        "\n",
        "image = imread(filename[42])\n",
        "image.shape"
      ]
    },
    {
      "cell_type": "code",
      "execution_count": null,
      "metadata": {
        "id": "HHXW2Gl-k4mf",
        "colab": {
          "base_uri": "https://localhost:8080/"
        },
        "outputId": "635132ef-4448-496e-8437-4a923f25ca36"
      },
      "outputs": [
        {
          "output_type": "execute_result",
          "data": {
            "text/plain": [
              "(255, 0)"
            ]
          },
          "metadata": {},
          "execution_count": 21
        }
      ],
      "source": [
        "image.max(), image.min()"
      ]
    },
    {
      "cell_type": "code",
      "execution_count": null,
      "metadata": {
        "id": "kSbGLI0ZlCLm",
        "colab": {
          "base_uri": "https://localhost:8080/"
        },
        "outputId": "2ae856ee-1e40-480d-8a2c-85db0a854895"
      },
      "outputs": [
        {
          "output_type": "execute_result",
          "data": {
            "text/plain": [
              "array([[97, 96, 94, ..., 95, 94, 94],\n",
              "       [96, 95, 93, ..., 94, 93, 93],\n",
              "       [94, 93, 92, ..., 93, 93, 93],\n",
              "       ...,\n",
              "       [33, 37, 44, ..., 26, 27, 22],\n",
              "       [31, 37, 45, ..., 26, 27, 22],\n",
              "       [29, 36, 45, ..., 26, 27, 22]], dtype=uint8)"
            ]
          },
          "metadata": {},
          "execution_count": 22
        }
      ],
      "source": [
        "image"
      ]
    },
    {
      "cell_type": "markdown",
      "metadata": {
        "id": "mHzFss1ylH3O"
      },
      "source": [
        "Now we've seen what an image looks like. Let's make a function to preprocessing them\n"
      ]
    },
    {
      "cell_type": "code",
      "execution_count": null,
      "metadata": {
        "id": "tFGyqWm8lXow"
      },
      "outputs": [],
      "source": [
        "# Define the image size\n",
        "IMG_SIZE = 224\n",
        "\n",
        "# Create a function for preprocessing images.\n",
        "def process_image(image_path, img_size=IMG_SIZE):\n",
        "  \"\"\"\n",
        "  Takes an image filepath and turns the image into tensor\n",
        "  \"\"\"\n",
        "\n",
        "  # Read the image file\n",
        "  image = tf.io.read_file(image_path)\n",
        "\n",
        "  # Turn the jpeg image into numerical tensor with 2 color channels\n",
        "  image = tf.image.decode_jpeg(image, channels=3)\n",
        "\n",
        "  # Convert the color channel value to float values\n",
        "  image = tf.image.convert_image_dtype(image, tf.float32)\n",
        "\n",
        "  # Resize the image to our desired value (640, 640)\n",
        "  image = tf.image.resize(image, size=[IMG_SIZE, IMG_SIZE])\n",
        "\n",
        "  return image"
      ]
    },
    {
      "cell_type": "code",
      "execution_count": null,
      "metadata": {
        "id": "Rbj72Sp7n6ZH"
      },
      "outputs": [],
      "source": [
        "# Create a simple function to return a tuple (image, label)\n",
        "def get_image_label(image_path, label):\n",
        "  \"\"\"\n",
        "  Take an image filepath and the associated label,\n",
        "  process that image and return the tuples\n",
        "  \"\"\"\n",
        "  image = process_image(image_path) # Image as the tensor\n",
        "  return image, label\n"
      ]
    },
    {
      "cell_type": "code",
      "execution_count": null,
      "metadata": {
        "id": "ZrY7DL3Wor0C"
      },
      "outputs": [],
      "source": [
        "# Define the batch size 32 is a good start\n",
        "BATCH_SIZE = 32\n",
        "\n",
        "# Create a function to turn data into batches\n",
        "def create_data_batches(X, y=None, batch_size = BATCH_SIZE, valid_data = False, test_data = False):\n",
        "  \"\"\"\n",
        "  Create batches of rom keras.model import Sequential\n",
        "from keras.layers import Conv2D, MaxPooling2D\n",
        "from keras.layers import Activation, Dropout, Flatten, Dense\n",
        "\n",
        "model = Sequential()\n",
        "model.add(Conv2D())data out of image (X) and label(y) paris.\n",
        "   Shuffles the data if it's tranning but dosen't shuffle if it's validation data.\n",
        "   Also accepts test data as input (no labels)\n",
        "  \"\"\"\n",
        "\n",
        "  # If the data is a test dataset, we probably don't have labels.\n",
        "  if test_data:\n",
        "    print('Creating test data batches...')\n",
        "    data = tf.data.Dataset.from_tensor_slices((tf.constant(X))) # Only file path as it test data.\n",
        "    data_batch = data.map(process_image).batch(BATCH_SIZE) # split the test data into 32 batches\n",
        "    return data_batch\n",
        "\n",
        "  # If the data is valid dataset , we don't need to shuffles it\n",
        "  elif valid_data:\n",
        "    print(\"Creating validation data batches.....\")\n",
        "    data = tf.data.Dataset.from_tensor_slices((tf.constant(X), # Filepath\n",
        "                                               tf.constant(y))) # Labels\n",
        "    data_batch = data.map(get_image_label).batch(BATCH_SIZE)\n",
        "    return data_batch\n",
        "\n",
        "  # If the data is train dataset, we shuffled it.\n",
        "  else:\n",
        "    print(\"Creating traning data batches....\")\n",
        "    # Turn filepath and labels into tensor\n",
        "    data = tf.data.Dataset.from_tensor_slices((tf.constant(X),\n",
        "                                               tf.constant(y)))\n",
        "    # Shuffling pathname and labels before mapping image processor function is faster tha shuffling the images.\n",
        "    data = data.shuffle(buffer_size=(len(X))) #buffer_size: A tf.int64 scalar tf.Tensor, representing the number of elements from this dataset from which the new dataset will sample.\n",
        "\n",
        "    data_batch = data.map(get_image_label).batch(BATCH_SIZE)\n",
        "\n",
        "  return data_batch"
      ]
    },
    {
      "cell_type": "code",
      "execution_count": null,
      "metadata": {
        "colab": {
          "base_uri": "https://localhost:8080/"
        },
        "id": "-3uFMBhCrJG0",
        "outputId": "f68d9187-9502-4098-c810-4f22e6b9b0db"
      },
      "outputs": [
        {
          "output_type": "stream",
          "name": "stdout",
          "text": [
            "Creating traning data batches....\n",
            "Creating validation data batches.....\n"
          ]
        }
      ],
      "source": [
        "train_data = create_data_batches(X_train, y_train)\n",
        "val_data = create_data_batches(X_val, y_val, valid_data=True)"
      ]
    },
    {
      "cell_type": "code",
      "execution_count": null,
      "metadata": {
        "colab": {
          "base_uri": "https://localhost:8080/"
        },
        "id": "FZ4WeRFdrWBJ",
        "outputId": "f3f3078d-a443-429d-9c20-13bf5b420c01"
      },
      "outputs": [
        {
          "output_type": "execute_result",
          "data": {
            "text/plain": [
              "((TensorSpec(shape=(None, 224, 224, 3), dtype=tf.float32, name=None),\n",
              "  TensorSpec(shape=(None, 2), dtype=tf.bool, name=None)),\n",
              " (TensorSpec(shape=(None, 224, 224, 3), dtype=tf.float32, name=None),\n",
              "  TensorSpec(shape=(None, 2), dtype=tf.bool, name=None)))"
            ]
          },
          "metadata": {},
          "execution_count": 27
        }
      ],
      "source": [
        "# Check our the different attributes our data batches\n",
        "train_data.element_spec, val_data.element_spec"
      ]
    },
    {
      "cell_type": "markdown",
      "metadata": {
        "id": "7csnpiCvsoC2"
      },
      "source": [
        "## Create a CNN model"
      ]
    },
    {
      "cell_type": "code",
      "execution_count": null,
      "metadata": {
        "id": "wSvjoZmVu3qu"
      },
      "outputs": [],
      "source": [
        "# Set up input shpae of the model\n",
        "INPUT_SHAPE = [None, IMG_SIZE, IMG_SIZE, 3] # From above element_spec\n",
        "\n",
        "# Set up output shape of the model\n",
        "OUTPUT_SHAPE = len(uniqueTarget)\n",
        "\n",
        "MODEL_URL = 'https://tfhub.dev/google/imagenet/mobilenet_v2_130_224/classification/4'"
      ]
    },
    {
      "cell_type": "code",
      "execution_count": null,
      "metadata": {
        "id": "uHBk5Z8B7L9f"
      },
      "outputs": [],
      "source": [
        "# import tensorflow as tf\n",
        "# import tensorflow_hub as hub\n",
        "# from tensorflow.keras import layers\n",
        "\n",
        "\n",
        "# # Create a fuction which build a Keras model.\n",
        "# def create_model(input_shape=INPUT_SHAPE, output_shape=OUTPUT_SHAPE, model_url = MODEL_URL):\n",
        "#   print('Building the model with :' , model_url)\n",
        "\n",
        "#   # Setup the model layers\n",
        "#   model = tf.keras.Sequential()\n",
        "#   model.add(layers.Conv2D(32, (3, 3), activation='relu', input_shape=(224, 224, 3)))\n",
        "#   model.add(layers.MaxPooling2D((2, 2)))\n",
        "#   model.add(layers.Conv2D(64, (3, 3), activation='relu'))\n",
        "#   model.add(layers.MaxPooling2D((2, 2)))\n",
        "#   model.add(layers.Conv2D(128, (3, 3), activation='relu'))\n",
        "#   model.add(layers.MaxPooling2D((2, 2)))\n",
        "\n",
        "# # Flatten the output from the convolutional layers\n",
        "#   model.add(layers.Flatten())\n",
        "\n",
        "# # Add the fully connected layers\n",
        "#   model.add(layers.Dense(128, activation='relu'))\n",
        "\n",
        "\n",
        "#   # Compile the model\n",
        "#   model.compile(\n",
        "#       loss= tf.keras.losses.BinaryCrossentropy(),\n",
        "#       optimizer = tf.keras.optimizers.Adam(),\n",
        "#       metrics=['accuracy']\n",
        "#   )\n",
        "\n",
        "#   # Build the model\n",
        "#   model.build(input_shape)\n",
        "\n",
        "#   return model\n",
        "\n",
        "\n",
        "import tensorflow as tf\n",
        "import tensorflow_hub as hub\n",
        "from tensorflow.keras import layers\n",
        "\n",
        "def create_model(input_shape=(224, 224, 3), output_shape=OUTPUT_SHAPE, model_url='https://tfhub.dev/google/imagenet/mobilenet_v2_130_224/classification/4'):\n",
        "    print('Building the model with:', model_url)\n",
        "\n",
        "    # Setup the model layers\n",
        "    model = tf.keras.Sequential()\n",
        "    model.add(layers.Conv2D(32, (3, 3), activation='relu', input_shape=input_shape))\n",
        "    model.add(layers.MaxPooling2D((2, 2)))\n",
        "    model.add(layers.Conv2D(64, (3, 3), activation='relu'))\n",
        "    model.add(layers.MaxPooling2D((2, 2)))\n",
        "    model.add(layers.MaxPooling2D((2, 2)))\n",
        "    model.add(layers.Flatten())\n",
        "    model.add(layers.Dense(128, activation='relu'))\n",
        "    model.add(layers.Dense(output_shape, activation='softmax'))\n",
        "\n",
        "    # Compile the model\n",
        "    model.compile(optimizer='adam', loss='categorical_crossentropy', metrics=['accuracy'])\n",
        "\n",
        "    model.build(input_shape)\n",
        "\n",
        "    return model\n",
        "\n",
        "\n"
      ]
    },
    {
      "cell_type": "code",
      "execution_count": null,
      "metadata": {
        "id": "26l0ncdPv2qu",
        "colab": {
          "base_uri": "https://localhost:8080/"
        },
        "outputId": "fbcb4a57-ae27-4d84-bff1-db63a1860902"
      },
      "outputs": [
        {
          "output_type": "stream",
          "name": "stdout",
          "text": [
            "Building the model with: https://tfhub.dev/google/imagenet/mobilenet_v2_130_224/classification/4\n",
            "Model: \"sequential\"\n",
            "_________________________________________________________________\n",
            " Layer (type)                Output Shape              Param #   \n",
            "=================================================================\n",
            " conv2d (Conv2D)             (None, 222, 222, 32)      896       \n",
            "                                                                 \n",
            " max_pooling2d (MaxPooling2D  (None, 111, 111, 32)     0         \n",
            " )                                                               \n",
            "                                                                 \n",
            " conv2d_1 (Conv2D)           (None, 109, 109, 64)      18496     \n",
            "                                                                 \n",
            " max_pooling2d_1 (MaxPooling  (None, 54, 54, 64)       0         \n",
            " 2D)                                                             \n",
            "                                                                 \n",
            " max_pooling2d_2 (MaxPooling  (None, 27, 27, 64)       0         \n",
            " 2D)                                                             \n",
            "                                                                 \n",
            " flatten (Flatten)           (None, 46656)             0         \n",
            "                                                                 \n",
            " dense (Dense)               (None, 128)               5972096   \n",
            "                                                                 \n",
            " dense_1 (Dense)             (None, 2)                 258       \n",
            "                                                                 \n",
            "=================================================================\n",
            "Total params: 5,991,746\n",
            "Trainable params: 5,991,746\n",
            "Non-trainable params: 0\n",
            "_________________________________________________________________\n"
          ]
        }
      ],
      "source": [
        "model = create_model()\n",
        "model.summary()"
      ]
    },
    {
      "cell_type": "code",
      "execution_count": null,
      "metadata": {
        "id": "hBXcTMi1hNPH"
      },
      "outputs": [],
      "source": []
    },
    {
      "cell_type": "code",
      "execution_count": null,
      "metadata": {
        "id": "8tdePfEFIjby"
      },
      "outputs": [],
      "source": [
        "# Load Tensor notbook extension\n",
        "%load_ext tensorboard"
      ]
    },
    {
      "cell_type": "code",
      "execution_count": null,
      "metadata": {
        "id": "HH_KU7VRIqIU"
      },
      "outputs": [],
      "source": [
        "import datetime\n",
        "import os\n",
        "\n",
        "# Create a function to build a TensorBoard callback\n",
        "def create_tensorboard_callback():\n",
        "\n",
        "  # Create a log directory for storing the tenosr board logs.\n",
        "  logdir = os.path.join('/content/drive/My Drive/Pnemonia classification/logs',\n",
        "                        datetime.datetime.now().strftime('%Y%m%d-%H%M%S'))\n",
        "  return tf.keras.callbacks.TensorBoard(logdir)"
      ]
    },
    {
      "cell_type": "code",
      "execution_count": null,
      "metadata": {
        "id": "sVNy_-CoJfuB"
      },
      "outputs": [],
      "source": [
        "# Create early stopping  callbacks\n",
        "early_stopping = tf.keras.callbacks.EarlyStopping(monitor='val_accuracy',\n",
        "                                                  patience=3,\n",
        "                                                  restore_best_weights=True)\n"
      ]
    },
    {
      "cell_type": "code",
      "execution_count": null,
      "metadata": {
        "id": "4A-pJGU3J1dK"
      },
      "outputs": [],
      "source": [
        "NUM_EPOCHS = 15 #@param {type:'slider', min:10, max:100, step:5}"
      ]
    },
    {
      "cell_type": "markdown",
      "metadata": {
        "id": "RExTX3VS_hDg"
      },
      "source": []
    },
    {
      "cell_type": "code",
      "execution_count": null,
      "metadata": {
        "id": "NdRDswwBKqZz"
      },
      "outputs": [],
      "source": [
        "# Build a function to train and return a trained model\n",
        "def train_model():\n",
        "  \"\"\"\n",
        "  Trains a give model and returns the trained version.\n",
        "  \"\"\"\n",
        "  # Create a model\n",
        "  model = create_model()\n",
        "\n",
        "\n",
        "  # Create new TensorBoard session every time we train a model\n",
        "  tensorboard = create_tensorboard_callback()\n",
        "\n",
        "  # Fit the model to the data passing it the callback we created\n",
        "  history = model.fit(x= train_data,\n",
        "            epochs=NUM_EPOCHS,\n",
        "            validation_data = val_data,\n",
        "            validation_freq = 1,\n",
        "            callbacks = [tensorboard, early_stopping])\n",
        "\n",
        "  return [model, history]"
      ]
    },
    {
      "cell_type": "code",
      "execution_count": null,
      "metadata": {
        "colab": {
          "base_uri": "https://localhost:8080/"
        },
        "id": "KemdafuMKx9n",
        "outputId": "61b8be5e-a139-4533-e068-7b1c250e3b45"
      },
      "outputs": [
        {
          "output_type": "stream",
          "name": "stdout",
          "text": [
            "Building the model with: https://tfhub.dev/google/imagenet/mobilenet_v2_130_224/classification/4\n",
            "Epoch 1/15\n",
            "25/25 [==============================] - 125s 3s/step - loss: 0.8421 - accuracy: 0.7262 - val_loss: 0.4195 - val_accuracy: 0.8550\n",
            "Epoch 2/15\n",
            "25/25 [==============================] - 14s 559ms/step - loss: 0.2772 - accuracy: 0.8925 - val_loss: 0.2107 - val_accuracy: 0.9100\n",
            "Epoch 3/15\n",
            "25/25 [==============================] - 14s 554ms/step - loss: 0.1473 - accuracy: 0.9450 - val_loss: 0.3045 - val_accuracy: 0.8750\n",
            "Epoch 4/15\n",
            "25/25 [==============================] - 14s 549ms/step - loss: 0.0969 - accuracy: 0.9688 - val_loss: 0.2381 - val_accuracy: 0.9200\n",
            "Epoch 5/15\n",
            "25/25 [==============================] - 14s 567ms/step - loss: 0.0611 - accuracy: 0.9800 - val_loss: 0.1943 - val_accuracy: 0.9200\n",
            "Epoch 6/15\n",
            "25/25 [==============================] - 13s 508ms/step - loss: 0.0496 - accuracy: 0.9800 - val_loss: 0.2679 - val_accuracy: 0.9100\n",
            "Epoch 7/15\n",
            "25/25 [==============================] - 13s 544ms/step - loss: 0.0365 - accuracy: 0.9887 - val_loss: 0.2275 - val_accuracy: 0.9050\n"
          ]
        }
      ],
      "source": [
        "trained_model, training_history = train_model()\n",
        "\n",
        "# Access the trained model and history\n",
        "model = trained_model\n",
        "history = training_history"
      ]
    },
    {
      "cell_type": "code",
      "execution_count": null,
      "metadata": {
        "id": "lxqfHmkILc_w"
      },
      "outputs": [],
      "source": []
    },
    {
      "cell_type": "code",
      "execution_count": null,
      "metadata": {
        "colab": {
          "base_uri": "https://localhost:8080/",
          "height": 364
        },
        "id": "bA2qGix72JXz",
        "outputId": "e378280f-2010-4124-fe00-e40f4d75b262"
      },
      "outputs": [
        {
          "output_type": "display_data",
          "data": {
            "text/plain": [
              "ERROR: Failed to launch TensorBoard (exited with 2).\n",
              "Contents of stderr:\n",
              "2023-07-16 04:37:28.906063: W tensorflow/compiler/tf2tensorrt/utils/py_utils.cc:38] TF-TRT Warning: Could not find TensorRT\n",
              "usage: tensorboard [-h] [--helpfull] [--logdir PATH] [--logdir_spec PATH_SPEC]\n",
              "                   [--host ADDR] [--bind_all] [--port PORT]\n",
              "                   [--reuse_port BOOL] [--load_fast {false,auto,true}]\n",
              "                   [--extra_data_server_flags EXTRA_DATA_SERVER_FLAGS]\n",
              "                   [--grpc_creds_type {local,ssl,ssl_dev}]\n",
              "                   [--grpc_data_provider PORT] [--purge_orphaned_data BOOL]\n",
              "                   [--db URI] [--db_import] [--inspect] [--version_tb]\n",
              "                   [--tag TAG] [--event_file PATH] [--path_prefix PATH]\n",
              "                   [--window_title TEXT] [--max_reload_threads COUNT]\n",
              "                   [--reload_interval SECONDS] [--reload_task TYPE]\n",
              "                   [--reload_multifile BOOL]\n",
              "                   [--reload_multifile_inactive_secs SECONDS]\n",
              "                   [--generic_data TYPE]\n",
              "                   [--samples_per_plugin SAMPLES_PER_PLUGIN]\n",
              "                   [--detect_file_replacement BOOL]\n",
              "                   {serve,dev} ...\n",
              "tensorboard: error: argument {serve,dev}: invalid choice: 'Drive/Pnemonia' (choose from 'serve', 'dev')"
            ]
          },
          "metadata": {}
        }
      ],
      "source": [
        "%tensorboard --logdir drive/My Drive/Pnemonia classification/logs10"
      ]
    },
    {
      "cell_type": "code",
      "execution_count": null,
      "metadata": {
        "colab": {
          "base_uri": "https://localhost:8080/"
        },
        "id": "hP4U3gCLA65H",
        "outputId": "e4f064f6-c8a5-4e7c-98db-30bb76a74482"
      },
      "outputs": [
        {
          "output_type": "stream",
          "name": "stdout",
          "text": [
            "7/7 [==============================] - 3s 464ms/step\n"
          ]
        }
      ],
      "source": [
        "prediction = model.predict(val_data, verbose=True)"
      ]
    },
    {
      "cell_type": "markdown",
      "metadata": {
        "id": "_K2IPduir9je"
      },
      "source": []
    },
    {
      "cell_type": "code",
      "execution_count": null,
      "metadata": {
        "id": "h1R4RyofBqTq"
      },
      "outputs": [],
      "source": [
        "from PIL import Image\n",
        "\n",
        "from matplotlib.pyplot import imread\n",
        "processed_image = process_image('/content/drive/MyDrive/Pnemonia classification/traindata/IM-0115-0001.jpeg')\n"
      ]
    },
    {
      "cell_type": "code",
      "execution_count": null,
      "metadata": {
        "colab": {
          "base_uri": "https://localhost:8080/",
          "height": 434
        },
        "id": "MAhkVRMNIe2L",
        "outputId": "833239fd-10c8-4fb8-feef-c6dba4c0e3e7"
      },
      "outputs": [
        {
          "output_type": "display_data",
          "data": {
            "text/plain": [
              "<Figure size 640x480 with 1 Axes>"
            ],
            "image/png": "[encoded data removed]"
          },
          "metadata": {}
        }
      ],
      "source": [
        "from matplotlib import pyplot as plt\n",
        "plt.imshow(processed_image, interpolation='nearest')\n",
        "plt.show()"
      ]
    },
    {
      "cell_type": "code",
      "execution_count": null,
      "metadata": {
        "colab": {
          "base_uri": "https://localhost:8080/",
          "height": 81
        },
        "id": "0jkaHNBhJZj9",
        "outputId": "c91e5a7d-5c84-467e-b348-85fe0c1ccfea"
      },
      "outputs": [
        {
          "output_type": "execute_result",
          "data": {
            "text/plain": [
              "                     id  target\n",
              "4330  IM-0115-0001.jpeg       0"
            ],
            "text/html": [
              "\n",
              "\n",
              "  <div id=\"df-d67d3420-525e-4274-9539-3877fc490620\">\n",
              "    <div class=\"colab-df-container\">\n",
              "      <div>\n",
              "<style scoped>\n",
              "    .dataframe tbody tr th:only-of-type {\n",
              "        vertical-align: middle;\n",
              "    }\n",
              "\n",
              "    .dataframe tbody tr th {\n",
              "        vertical-align: top;\n",
              "    }\n",
              "\n",
              "    .dataframe thead th {\n",
              "        text-align: right;\n",
              "    }\n",
              "</style>\n",
              "<table border=\"1\" class=\"dataframe\">\n",
              "  <thead>\n",
              "    <tr style=\"text-align: right;\">\n",
              "      <th></th>\n",
              "      <th>id</th>\n",
              "      <th>target</th>\n",
              "    </tr>\n",
              "  </thead>\n",
              "  <tbody>\n",
              "    <tr>\n",
              "      <th>4330</th>\n",
              "      <td>IM-0115-0001.jpeg</td>\n",
              "      <td>0</td>\n",
              "    </tr>\n",
              "  </tbody>\n",
              "</table>\n",
              "</div>\n",
              "      <button class=\"colab-df-convert\" onclick=\"convertToInteractive('df-d67d3420-525e-4274-9539-3877fc490620')\"\n",
              "              title=\"Convert this dataframe to an interactive table.\"\n",
              "              style=\"display:none;\">\n",
              "\n",
              "  <svg xmlns=\"http://www.w3.org/2000/svg\" height=\"24px\"viewBox=\"0 0 24 24\"\n",
              "       width=\"24px\">\n",
              "    <path d=\"M0 0h24v24H0V0z\" fill=\"none\"/>\n",
              "    <path d=\"M18.56 5.44l.94 2.06.94-2.06 2.06-.94-2.06-.94-.94-2.06-.94 2.06-2.06.94zm-11 1L8.5 8.5l.94-2.06 2.06-.94-2.06-.94L8.5 2.5l-.94 2.06-2.06.94zm10 10l.94 2.06.94-2.06 2.06-.94-2.06-.94-.94-2.06-.94 2.06-2.06.94z\"/><path d=\"M17.41 7.96l-1.37-1.37c-.4-.4-.92-.59-1.43-.59-.52 0-1.04.2-1.43.59L10.3 9.45l-7.72 7.72c-.78.78-.78 2.05 0 2.83L4 21.41c.39.39.9.59 1.41.59.51 0 1.02-.2 1.41-.59l7.78-7.78 2.81-2.81c.8-.78.8-2.07 0-2.86zM5.41 20L4 18.59l7.72-7.72 1.47 1.35L5.41 20z\"/>\n",
              "  </svg>\n",
              "      </button>\n",
              "\n",
              "\n",
              "\n",
              "    <div id=\"df-a048c572-a6d7-4b2a-af43-3fd824005203\">\n",
              "      <button class=\"colab-df-quickchart\" onclick=\"quickchart('df-a048c572-a6d7-4b2a-af43-3fd824005203')\"\n",
              "              title=\"Suggest charts.\"\n",
              "              style=\"display:none;\">\n",
              "\n",
              "<svg xmlns=\"http://www.w3.org/2000/svg\" height=\"24px\"viewBox=\"0 0 24 24\"\n",
              "     width=\"24px\">\n",
              "    <g>\n",
              "        <path d=\"M19 3H5c-1.1 0-2 .9-2 2v14c0 1.1.9 2 2 2h14c1.1 0 2-.9 2-2V5c0-1.1-.9-2-2-2zM9 17H7v-7h2v7zm4 0h-2V7h2v10zm4 0h-2v-4h2v4z\"/>\n",
              "    </g>\n",
              "</svg>\n",
              "      </button>\n",
              "    </div>\n",
              "\n",
              "<style>\n",
              "  .colab-df-quickchart {\n",
              "    background-color: #E8F0FE;\n",
              "    border: none;\n",
              "    border-radius: 50%;\n",
              "    cursor: pointer;\n",
              "    display: none;\n",
              "    fill: #1967D2;\n",
              "    height: 32px;\n",
              "    padding: 0 0 0 0;\n",
              "    width: 32px;\n",
              "  }\n",
              "\n",
              "  .colab-df-quickchart:hover {\n",
              "    background-color: #E2EBFA;\n",
              "    box-shadow: 0px 1px 2px rgba(60, 64, 67, 0.3), 0px 1px 3px 1px rgba(60, 64, 67, 0.15);\n",
              "    fill: #174EA6;\n",
              "  }\n",
              "\n",
              "  [theme=dark] .colab-df-quickchart {\n",
              "    background-color: #3B4455;\n",
              "    fill: #D2E3FC;\n",
              "  }\n",
              "\n",
              "  [theme=dark] .colab-df-quickchart:hover {\n",
              "    background-color: #434B5C;\n",
              "    box-shadow: 0px 1px 3px 1px rgba(0, 0, 0, 0.15);\n",
              "    filter: drop-shadow(0px 1px 2px rgba(0, 0, 0, 0.3));\n",
              "    fill: #FFFFFF;\n",
              "  }\n",
              "</style>\n",
              "\n",
              "    <script>\n",
              "      async function quickchart(key) {\n",
              "        const containerElement = document.querySelector('#' + key);\n",
              "        const charts = await google.colab.kernel.invokeFunction(\n",
              "            'suggestCharts', [key], {});\n",
              "      }\n",
              "    </script>\n",
              "\n",
              "      <script>\n",
              "\n",
              "function displayQuickchartButton(domScope) {\n",
              "  let quickchartButtonEl =\n",
              "    domScope.querySelector('#df-a048c572-a6d7-4b2a-af43-3fd824005203 button.colab-df-quickchart');\n",
              "  quickchartButtonEl.style.display =\n",
              "    google.colab.kernel.accessAllowed ? 'block' : 'none';\n",
              "}\n",
              "\n",
              "        displayQuickchartButton(document);\n",
              "      </script>\n",
              "      <style>\n",
              "    .colab-df-container {\n",
              "      display:flex;\n",
              "      flex-wrap:wrap;\n",
              "      gap: 12px;\n",
              "    }\n",
              "\n",
              "    .colab-df-convert {\n",
              "      background-color: #E8F0FE;\n",
              "      border: none;\n",
              "      border-radius: 50%;\n",
              "      cursor: pointer;\n",
              "      display: none;\n",
              "      fill: #1967D2;\n",
              "      height: 32px;\n",
              "      padding: 0 0 0 0;\n",
              "      width: 32px;\n",
              "    }\n",
              "\n",
              "    .colab-df-convert:hover {\n",
              "      background-color: #E2EBFA;\n",
              "      box-shadow: 0px 1px 2px rgba(60, 64, 67, 0.3), 0px 1px 3px 1px rgba(60, 64, 67, 0.15);\n",
              "      fill: #174EA6;\n",
              "    }\n",
              "\n",
              "    [theme=dark] .colab-df-convert {\n",
              "      background-color: #3B4455;\n",
              "      fill: #D2E3FC;\n",
              "    }\n",
              "\n",
              "    [theme=dark] .colab-df-convert:hover {\n",
              "      background-color: #434B5C;\n",
              "      box-shadow: 0px 1px 3px 1px rgba(0, 0, 0, 0.15);\n",
              "      filter: drop-shadow(0px 1px 2px rgba(0, 0, 0, 0.3));\n",
              "      fill: #FFFFFF;\n",
              "    }\n",
              "  </style>\n",
              "\n",
              "      <script>\n",
              "        const buttonEl =\n",
              "          document.querySelector('#df-d67d3420-525e-4274-9539-3877fc490620 button.colab-df-convert');\n",
              "        buttonEl.style.display =\n",
              "          google.colab.kernel.accessAllowed ? 'block' : 'none';\n",
              "\n",
              "        async function convertToInteractive(key) {\n",
              "          const element = document.querySelector('#df-d67d3420-525e-4274-9539-3877fc490620');\n",
              "          const dataTable =\n",
              "            await google.colab.kernel.invokeFunction('convertToInteractive',\n",
              "                                                     [key], {});\n",
              "          if (!dataTable) return;\n",
              "\n",
              "          const docLinkHtml = 'Like what you see? Visit the ' +\n",
              "            '<a target=\"_blank\" href=https://colab.research.google.com/notebooks/data_table.ipynb>data table notebook</a>'\n",
              "            + ' to learn more about interactive tables.';\n",
              "          element.innerHTML = '';\n",
              "          dataTable['output_type'] = 'display_data';\n",
              "          await google.colab.output.renderOutput(dataTable, element);\n",
              "          const docLink = document.createElement('div');\n",
              "          docLink.innerHTML = docLinkHtml;\n",
              "          element.appendChild(docLink);\n",
              "        }\n",
              "      </script>\n",
              "    </div>\n",
              "  </div>\n"
            ]
          },
          "metadata": {},
          "execution_count": 41
        }
      ],
      "source": [
        "# labels_csv.id('IM-0115-0001.jpeg')\n",
        "labels_csv.loc[labels_csv['id'] == 'IM-0115-0001.jpeg']"
      ]
    },
    {
      "cell_type": "code",
      "execution_count": null,
      "metadata": {
        "id": "AdxpW9PdHotw"
      },
      "outputs": [],
      "source": [
        "processed_image = tf.reshape(processed_image, [1, 224, 224, 3])"
      ]
    },
    {
      "cell_type": "code",
      "execution_count": null,
      "metadata": {
        "colab": {
          "base_uri": "https://localhost:8080/"
        },
        "id": "v3OPsi37Hek1",
        "outputId": "e1857e98-e3de-4989-beea-1f6cf6545d63"
      },
      "outputs": [
        {
          "output_type": "stream",
          "name": "stdout",
          "text": [
            "1/1 [==============================] - 0s 206ms/step\n"
          ]
        }
      ],
      "source": [
        "prediction = model.predict(processed_image)"
      ]
    },
    {
      "cell_type": "code",
      "execution_count": null,
      "metadata": {
        "colab": {
          "base_uri": "https://localhost:8080/"
        },
        "id": "i7xnIfk_CHKO",
        "outputId": "29653a28-3b61-4215-b83a-426b6ab60da1"
      },
      "outputs": [
        {
          "output_type": "execute_result",
          "data": {
            "text/plain": [
              "0"
            ]
          },
          "metadata": {},
          "execution_count": 44
        }
      ],
      "source": [
        "uniqueTarget[np.argmax(prediction)]"
      ]
    },
    {
      "cell_type": "code",
      "execution_count": null,
      "metadata": {
        "colab": {
          "base_uri": "https://localhost:8080/"
        },
        "id": "A2rP89XCCM9o",
        "outputId": "9310b533-90fe-49be-bae5-97a086d55514"
      },
      "outputs": [
        {
          "output_type": "stream",
          "name": "stdout",
          "text": [
            "Requirement already satisfied: pyyaml in /usr/local/lib/python3.10/dist-packages (6.0)\n",
            "Requirement already satisfied: h5py in /usr/local/lib/python3.10/dist-packages (3.8.0)\n",
            "Requirement already satisfied: numpy>=1.14.5 in /usr/local/lib/python3.10/dist-packages (from h5py) (1.22.4)\n"
          ]
        }
      ],
      "source": [
        "!pip3 install pyyaml h5py"
      ]
    },
    {
      "cell_type": "code",
      "execution_count": null,
      "metadata": {
        "id": "Avt1AxF5De6A"
      },
      "outputs": [],
      "source": [
        "model.save('/content/drive/MyDrive/Pnemonia classification/pTrainModel11' + '.keras')"
      ]
    },
    {
      "cell_type": "code",
      "execution_count": null,
      "metadata": {
        "colab": {
          "base_uri": "https://localhost:8080/"
        },
        "id": "-t5MmM2hGcFl",
        "outputId": "4753f15a-8a88-4592-d645-584b710148ce"
      },
      "outputs": [
        {
          "output_type": "stream",
          "name": "stdout",
          "text": [
            "Requirement already satisfied: tensorflow in /usr/local/lib/python3.10/dist-packages (2.12.0)\n",
            "Requirement already satisfied: absl-py>=1.0.0 in /usr/local/lib/python3.10/dist-packages (from tensorflow) (1.4.0)\n",
            "Requirement already satisfied: astunparse>=1.6.0 in /usr/local/lib/python3.10/dist-packages (from tensorflow) (1.6.3)\n",
            "Requirement already satisfied: flatbuffers>=2.0 in /usr/local/lib/python3.10/dist-packages (from tensorflow) (23.5.26)\n",
            "Requirement already satisfied: gast<=0.4.0,>=0.2.1 in /usr/local/lib/python3.10/dist-packages (from tensorflow) (0.4.0)\n",
            "Requirement already satisfied: google-pasta>=0.1.1 in /usr/local/lib/python3.10/dist-packages (from tensorflow) (0.2.0)\n",
            "Requirement already satisfied: grpcio<2.0,>=1.24.3 in /usr/local/lib/python3.10/dist-packages (from tensorflow) (1.56.0)\n",
            "Requirement already satisfied: h5py>=2.9.0 in /usr/local/lib/python3.10/dist-packages (from tensorflow) (3.8.0)\n",
            "Requirement already satisfied: jax>=0.3.15 in /usr/local/lib/python3.10/dist-packages (from tensorflow) (0.4.13)\n",
            "Requirement already satisfied: keras<2.13,>=2.12.0 in /usr/local/lib/python3.10/dist-packages (from tensorflow) (2.12.0)\n",
            "Requirement already satisfied: libclang>=13.0.0 in /usr/local/lib/python3.10/dist-packages (from tensorflow) (16.0.0)\n",
            "Requirement already satisfied: numpy<1.24,>=1.22 in /usr/local/lib/python3.10/dist-packages (from tensorflow) (1.22.4)\n",
            "Requirement already satisfied: opt-einsum>=2.3.2 in /usr/local/lib/python3.10/dist-packages (from tensorflow) (3.3.0)\n",
            "Requirement already satisfied: packaging in /usr/local/lib/python3.10/dist-packages (from tensorflow) (23.1)\n",
            "Requirement already satisfied: protobuf!=4.21.0,!=4.21.1,!=4.21.2,!=4.21.3,!=4.21.4,!=4.21.5,<5.0.0dev,>=3.20.3 in /usr/local/lib/python3.10/dist-packages (from tensorflow) (3.20.3)\n",
            "Requirement already satisfied: setuptools in /usr/local/lib/python3.10/dist-packages (from tensorflow) (67.7.2)\n",
            "Requirement already satisfied: six>=1.12.0 in /usr/local/lib/python3.10/dist-packages (from tensorflow) (1.16.0)\n",
            "Requirement already satisfied: tensorboard<2.13,>=2.12 in /usr/local/lib/python3.10/dist-packages (from tensorflow) (2.12.3)\n",
            "Requirement already satisfied: tensorflow-estimator<2.13,>=2.12.0 in /usr/local/lib/python3.10/dist-packages (from tensorflow) (2.12.0)\n",
            "Requirement already satisfied: termcolor>=1.1.0 in /usr/local/lib/python3.10/dist-packages (from tensorflow) (2.3.0)\n",
            "Requirement already satisfied: typing-extensions>=3.6.6 in /usr/local/lib/python3.10/dist-packages (from tensorflow) (4.7.1)\n",
            "Requirement already satisfied: wrapt<1.15,>=1.11.0 in /usr/local/lib/python3.10/dist-packages (from tensorflow) (1.14.1)\n",
            "Requirement already satisfied: tensorflow-io-gcs-filesystem>=0.23.1 in /usr/local/lib/python3.10/dist-packages (from tensorflow) (0.32.0)\n",
            "Requirement already satisfied: wheel<1.0,>=0.23.0 in /usr/local/lib/python3.10/dist-packages (from astunparse>=1.6.0->tensorflow) (0.40.0)\n",
            "Requirement already satisfied: ml-dtypes>=0.1.0 in /usr/local/lib/python3.10/dist-packages (from jax>=0.3.15->tensorflow) (0.2.0)\n",
            "Requirement already satisfied: scipy>=1.7 in /usr/local/lib/python3.10/dist-packages (from jax>=0.3.15->tensorflow) (1.10.1)\n",
            "Requirement already satisfied: google-auth<3,>=1.6.3 in /usr/local/lib/python3.10/dist-packages (from tensorboard<2.13,>=2.12->tensorflow) (2.17.3)\n",
            "Requirement already satisfied: google-auth-oauthlib<1.1,>=0.5 in /usr/local/lib/python3.10/dist-packages (from tensorboard<2.13,>=2.12->tensorflow) (1.0.0)\n",
            "Requirement already satisfied: markdown>=2.6.8 in /usr/local/lib/python3.10/dist-packages (from tensorboard<2.13,>=2.12->tensorflow) (3.4.3)\n",
            "Requirement already satisfied: requests<3,>=2.21.0 in /usr/local/lib/python3.10/dist-packages (from tensorboard<2.13,>=2.12->tensorflow) (2.27.1)\n",
            "Requirement already satisfied: tensorboard-data-server<0.8.0,>=0.7.0 in /usr/local/lib/python3.10/dist-packages (from tensorboard<2.13,>=2.12->tensorflow) (0.7.1)\n",
            "Requirement already satisfied: werkzeug>=1.0.1 in /usr/local/lib/python3.10/dist-packages (from tensorboard<2.13,>=2.12->tensorflow) (2.3.6)\n",
            "Requirement already satisfied: cachetools<6.0,>=2.0.0 in /usr/local/lib/python3.10/dist-packages (from google-auth<3,>=1.6.3->tensorboard<2.13,>=2.12->tensorflow) (5.3.1)\n",
            "Requirement already satisfied: pyasn1-modules>=0.2.1 in /usr/local/lib/python3.10/dist-packages (from google-auth<3,>=1.6.3->tensorboard<2.13,>=2.12->tensorflow) (0.3.0)\n",
            "Requirement already satisfied: rsa<5,>=3.1.4 in /usr/local/lib/python3.10/dist-packages (from google-auth<3,>=1.6.3->tensorboard<2.13,>=2.12->tensorflow) (4.9)\n",
            "Requirement already satisfied: requests-oauthlib>=0.7.0 in /usr/local/lib/python3.10/dist-packages (from google-auth-oauthlib<1.1,>=0.5->tensorboard<2.13,>=2.12->tensorflow) (1.3.1)\n",
            "Requirement already satisfied: urllib3<1.27,>=1.21.1 in /usr/local/lib/python3.10/dist-packages (from requests<3,>=2.21.0->tensorboard<2.13,>=2.12->tensorflow) (1.26.16)\n",
            "Requirement already satisfied: certifi>=2017.4.17 in /usr/local/lib/python3.10/dist-packages (from requests<3,>=2.21.0->tensorboard<2.13,>=2.12->tensorflow) (2023.5.7)\n",
            "Requirement already satisfied: charset-normalizer~=2.0.0 in /usr/local/lib/python3.10/dist-packages (from requests<3,>=2.21.0->tensorboard<2.13,>=2.12->tensorflow) (2.0.12)\n",
            "Requirement already satisfied: idna<4,>=2.5 in /usr/local/lib/python3.10/dist-packages (from requests<3,>=2.21.0->tensorboard<2.13,>=2.12->tensorflow) (3.4)\n",
            "Requirement already satisfied: MarkupSafe>=2.1.1 in /usr/local/lib/python3.10/dist-packages (from werkzeug>=1.0.1->tensorboard<2.13,>=2.12->tensorflow) (2.1.3)\n",
            "Requirement already satisfied: pyasn1<0.6.0,>=0.4.6 in /usr/local/lib/python3.10/dist-packages (from pyasn1-modules>=0.2.1->google-auth<3,>=1.6.3->tensorboard<2.13,>=2.12->tensorflow) (0.5.0)\n",
            "Requirement already satisfied: oauthlib>=3.0.0 in /usr/local/lib/python3.10/dist-packages (from requests-oauthlib>=0.7.0->google-auth-oauthlib<1.1,>=0.5->tensorboard<2.13,>=2.12->tensorflow) (3.2.2)\n"
          ]
        }
      ],
      "source": [
        "!pip install tensorflow\n"
      ]
    },
    {
      "cell_type": "code",
      "execution_count": null,
      "metadata": {
        "id": "xsGh_O1JJxyS"
      },
      "outputs": [],
      "source": [
        "import tensorflow as tf\n",
        "import tensorflow\n",
        "from tensorflow.keras.models import load_model\n"
      ]
    },
    {
      "cell_type": "code",
      "execution_count": null,
      "metadata": {
        "colab": {
          "base_uri": "https://localhost:8080/"
        },
        "id": "ekevqEuLLKqi",
        "outputId": "67b4c321-98c4-495e-9594-4639c57c2f7c"
      },
      "outputs": [
        {
          "output_type": "stream",
          "name": "stdout",
          "text": [
            "Model: \"sequential_1\"\n",
            "_________________________________________________________________\n",
            " Layer (type)                Output Shape              Param #   \n",
            "=================================================================\n",
            " conv2d_2 (Conv2D)           (None, 222, 222, 32)      896       \n",
            "                                                                 \n",
            " max_pooling2d_3 (MaxPooling  (None, 111, 111, 32)     0         \n",
            " 2D)                                                             \n",
            "                                                                 \n",
            " conv2d_3 (Conv2D)           (None, 109, 109, 64)      18496     \n",
            "                                                                 \n",
            " max_pooling2d_4 (MaxPooling  (None, 54, 54, 64)       0         \n",
            " 2D)                                                             \n",
            "                                                                 \n",
            " max_pooling2d_5 (MaxPooling  (None, 27, 27, 64)       0         \n",
            " 2D)                                                             \n",
            "                                                                 \n",
            " flatten_1 (Flatten)         (None, 46656)             0         \n",
            "                                                                 \n",
            " dense_2 (Dense)             (None, 128)               5972096   \n",
            "                                                                 \n",
            " dense_3 (Dense)             (None, 2)                 258       \n",
            "                                                                 \n",
            "=================================================================\n",
            "Total params: 5,991,746\n",
            "Trainable params: 5,991,746\n",
            "Non-trainable params: 0\n",
            "_________________________________________________________________\n"
          ]
        }
      ],
      "source": [
        "new_model = load_model('/content/drive/MyDrive/Pnemonia classification/pTrainModel11.keras', custom_objects={'KerasLayer':hub.KerasLayer})\n",
        "#pTrainedModel11 is using pooling and all cnn architecturess\n",
        "# Check its architecture\n",
        "new_model.summary()"
      ]
    },
    {
      "cell_type": "code",
      "execution_count": null,
      "metadata": {
        "colab": {
          "base_uri": "https://localhost:8080/"
        },
        "id": "zTP0QbqqLVVG",
        "outputId": "6ef86273-46e4-474d-c72f-e56dffaacedc"
      },
      "outputs": [
        {
          "output_type": "stream",
          "name": "stdout",
          "text": [
            "1/1 [==============================] - 0s 72ms/step\n"
          ]
        },
        {
          "output_type": "execute_result",
          "data": {
            "text/plain": [
              "array([[0.9950558 , 0.00494423]], dtype=float32)"
            ]
          },
          "metadata": {},
          "execution_count": 50
        }
      ],
      "source": [
        "new_model.predict(processed_image\n",
        ")"
      ]
    },
    {
      "cell_type": "code",
      "execution_count": null,
      "metadata": {
        "id": "psPab06mLasC"
      },
      "outputs": [],
      "source": [
        "model_json = model.to_json()\n",
        "\n",
        "# Save the model architecture to a file\n",
        "with open(\"/content/drive/MyDrive/Pnemonia classification/model.json\", \"w\") as json_file:\n",
        "    json_file.write(model_json)"
      ]
    },
    {
      "cell_type": "code",
      "execution_count": null,
      "metadata": {
        "id": "5aFkY9hKku_n"
      },
      "outputs": [],
      "source": [
        "# from tensorflow.python.saved_model.save import save\n",
        "# model.save('/content/drive/MyDrive/Pnemonia classification/pTrainModel1' + '.h5')"
      ]
    },
    {
      "cell_type": "code",
      "execution_count": null,
      "metadata": {
        "id": "g_MmY5O4vQDc"
      },
      "outputs": [],
      "source": [
        "# X_train = np.array(X_train)\n",
        "# # y_train = np.array(y_train)\n",
        "# X_val = np.array(X_val)\n",
        "# # y_val = np.array(y_val)"
      ]
    },
    {
      "cell_type": "code",
      "execution_count": null,
      "metadata": {
        "colab": {
          "base_uri": "https://localhost:8080/",
          "height": 472
        },
        "id": "KYbbE8ozmALS",
        "outputId": "91f8fe67-59f5-4c64-b20a-83b3d83bcc39"
      },
      "outputs": [
        {
          "output_type": "display_data",
          "data": {
            "text/plain": [
              "<Figure size 640x480 with 1 Axes>"
            ],
            "image/png": "[encoded data removed]"
          },
          "metadata": {}
        }
      ],
      "source": [
        "\n",
        "\n",
        "import matplotlib.pyplot as plt\n",
        "\n",
        "# Access the training and validation accuracy values from the history object\n",
        "train_accuracy = history.history['accuracy']\n",
        "val_accuracy = history.history['val_accuracy']\n",
        "\n",
        "# Get the number of epochs\n",
        "epochs = range(1, len(train_accuracy) + 1)\n",
        "\n",
        "# Plot the training and validation accuracy\n",
        "plt.plot(epochs, train_accuracy, label='Training Accuracy')\n",
        "plt.plot(epochs, val_accuracy, label='Validation Accuracy')\n",
        "plt.title('Accuracy v s. Epoch')\n",
        "plt.xlabel('Epoch')\n",
        "plt.ylabel('Accuracy')\n",
        "plt.legend()\n",
        "plt.show()\n"
      ]
    },
    {
      "cell_type": "code",
      "execution_count": null,
      "metadata": {
        "id": "QB_3G5DLGoa8"
      },
      "outputs": [],
      "source": [
        "import numpy as np\n",
        "import pandas as pd\n",
        "import matplotlib.pyplot as plt\n",
        "from sklearn.metrics import confusion_matrix\n",
        "\n",
        "# Read the test data from the CSV file\n",
        "test_data = pd.read_csv('/content/drive/My Drive/Pnemonia classification/temptestLabels.csv')\n",
        "\n",
        "\n",
        "\n",
        "# Extract the image names (X_test) and targets (y_true) from the test data\n",
        "X_test = test_data['id']\n",
        "y_true = test_data['target']\n",
        "\n",
        "image_path =[(f'/content/drive/My Drive/Pnemonia classification/testdata/{item}' ) for item in X_test ]\n",
        "\n",
        "X_test = [process_image(image) for image in image_path]\n",
        "\n",
        "\n",
        "X_test\n",
        "\n",
        "X_test = tf.reshape(X_test, [-1, 224, 224, 3])\n",
        "\n",
        "# # Assuming you have a test set with image names and targets\n",
        "\n",
        "# # Make predictions on the test set using your trained model\n",
        "# y_pred = model.predict(X_test)\n",
        "# y_pred_labels = np.argmax(y_pred, axis=1)  # Convert predicted probabilities to class labels\n",
        "\n",
        "# # Calculate the confusion matrix\n",
        "# cm = confusion_matrix(y_true, y_pred_labels)\n",
        "\n",
        "# # Define class labels\n",
        "# class_labels = ['Normal', 'Pneumonia']  # Replace with your class labels\n",
        "\n",
        "# # Plot the confusion matrix\n",
        "# plt.imshow(cm, interpolation='nearest', cmap=plt.cm.Blues)\n",
        "# plt.title('Confusion Matrix')\n",
        "# plt.colorbar()\n",
        "# tick_marks = np.arange(len(class_labels))\n",
        "# plt.xticks(tick_marks, class_labels, rotation=45)\n",
        "# plt.yticks(tick_marks, class_labels)\n",
        "# plt.xlabel('Predicted Label')\n",
        "# plt.ylabel('True Label')\n",
        "\n",
        "# # Add values to each cell\n",
        "# for i in range(len(class_labels)):\n",
        "#     for j in range(len(class_labels)):\n",
        "#         plt.text(j, i, cm[i, j], ha='center', va='center', color='white')\n",
        "\n",
        "# plt.show()\n"
      ]
    },
    {
      "cell_type": "code",
      "execution_count": null,
      "metadata": {
        "colab": {
          "base_uri": "https://localhost:8080/",
          "height": 539
        },
        "id": "5UA-wrGLG8ki",
        "outputId": "787086e4-e569-400b-d7f9-b53bf7d6fb43"
      },
      "outputs": [
        {
          "output_type": "stream",
          "name": "stdout",
          "text": [
            "20/20 [==============================] - 1s 27ms/step\n"
          ]
        },
        {
          "output_type": "display_data",
          "data": {
            "text/plain": [
              "<Figure size 640x480 with 2 Axes>"
            ],
            "image/png": "[encoded data removed]"
          },
          "metadata": {}
        }
      ],
      "source": [
        "X_test = tf.reshape(X_test, [-1, 224, 224, 3])\n",
        "# Assuming you have a test set with image names and targets\n",
        "\n",
        "# Make predictions on the test set using your trained model\n",
        "y_pred = model.predict(X_test)\n",
        "y_pred_labels = np.argmax(y_pred, axis=1)  # Convert predicted probabilities to class labels\n",
        "\n",
        "# Calculate the confusion matrix\n",
        "cm = confusion_matrix(y_true, y_pred_labels)\n",
        "\n",
        "# Define class labels\n",
        "class_labels = ['Normal', 'Pneumonia']  # Replace with your class labels\n",
        "\n",
        "# Plot the confusion matrix\n",
        "plt.imshow(cm, interpolation='nearest', cmap=plt.cm.Blues)\n",
        "plt.title('Confusion Matrix')\n",
        "plt.colorbar()\n",
        "tick_marks = np.arange(len(class_labels))\n",
        "plt.xticks(tick_marks, class_labels, rotation=45)\n",
        "plt.yticks(tick_marks, class_labels)\n",
        "plt.xlabel('Predicted Label')\n",
        "plt.ylabel('True Label')\n",
        "\n",
        "# Add values to each cell\n",
        "for i in range(len(class_labels)):\n",
        "    for j in range(len(class_labels)):\n",
        "        plt.text(j, i, cm[i, j], ha='center', va='center', color='white')\n",
        "\n",
        "plt.show()\n",
        "\n"
      ]
    },
    {
      "cell_type": "code",
      "execution_count": null,
      "metadata": {
        "colab": {
          "base_uri": "https://localhost:8080/"
        },
        "id": "XJD6wfme98SH",
        "outputId": "c9718ff6-b7b4-42bd-b0d2-d0974f88831a"
      },
      "outputs": [
        {
          "output_type": "stream",
          "name": "stdout",
          "text": [
            "Accuracy: 0.8349358974358975\n"
          ]
        }
      ],
      "source": [
        "# Calculate the total number of samples\n",
        "total_samples = np.sum(cm)\n",
        "\n",
        "# Calculate the number of correctly classified samples\n",
        "correct_predictions = np.trace(cm)\n",
        "\n",
        "# Calculate the accuracy\n",
        "accuracy = correct_predictions / total_samples\n",
        "\n",
        "print(\"Accuracy:\", accuracy)\n"
      ]
    },
    {
      "cell_type": "code",
      "execution_count": null,
      "metadata": {
        "colab": {
          "base_uri": "https://localhost:8080/"
        },
        "id": "2e-OdBYut_Z3",
        "outputId": "ab3a401f-d155-466c-bd64-0b97c113a2f5"
      },
      "outputs": [
        {
          "output_type": "stream",
          "name": "stdout",
          "text": [
            "Model: \"sequential_1\"\n",
            "_________________________________________________________________\n",
            " Layer (type)                Output Shape              Param #   \n",
            "=================================================================\n",
            " conv2d_2 (Conv2D)           (None, 222, 222, 32)      896       \n",
            "                                                                 \n",
            " max_pooling2d_3 (MaxPooling  (None, 111, 111, 32)     0         \n",
            " 2D)                                                             \n",
            "                                                                 \n",
            " conv2d_3 (Conv2D)           (None, 109, 109, 64)      18496     \n",
            "                                                                 \n",
            " max_pooling2d_4 (MaxPooling  (None, 54, 54, 64)       0         \n",
            " 2D)                                                             \n",
            "                                                                 \n",
            " max_pooling2d_5 (MaxPooling  (None, 27, 27, 64)       0         \n",
            " 2D)                                                             \n",
            "                                                                 \n",
            " flatten_1 (Flatten)         (None, 46656)             0         \n",
            "                                                                 \n",
            " dense_2 (Dense)             (None, 128)               5972096   \n",
            "                                                                 \n",
            " dense_3 (Dense)             (None, 2)                 258       \n",
            "                                                                 \n",
            "=================================================================\n",
            "Total params: 5,991,746\n",
            "Trainable params: 5,991,746\n",
            "Non-trainable params: 0\n",
            "_________________________________________________________________\n"
          ]
        }
      ],
      "source": [
        "model.summary()\n"
      ]
    }
  ],
  "metadata": {
    "accelerator": "GPU",
    "colab": {
      "provenance": [],
      "toc_visible": true
    },
    "kernelspec": {
      "display_name": "Python 3",
      "name": "python3"
    }
  },
  "nbformat": 4,
  "nbformat_minor": 0
}